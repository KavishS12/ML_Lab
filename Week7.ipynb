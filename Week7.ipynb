{
 "cells": [
  {
   "cell_type": "code",
   "execution_count": 126,
   "id": "41e30a92",
   "metadata": {},
   "outputs": [],
   "source": [
    "import numpy as np\n",
    "import pandas as pd\n",
    "import matplotlib.pyplot as plt"
   ]
  },
  {
   "cell_type": "markdown",
   "id": "e34da3fd",
   "metadata": {},
   "source": [
    "### Question 1(a)"
   ]
  },
  {
   "cell_type": "code",
   "execution_count": 127,
   "id": "c142ef87",
   "metadata": {},
   "outputs": [],
   "source": [
    "P_hostel = 0.60\n",
    "P_dayScholar = 0.40\n",
    "P_A_hostel = 0.30\n",
    "P_A_dayScholar = 0.20"
   ]
  },
  {
   "cell_type": "code",
   "execution_count": 128,
   "id": "b978b1c8",
   "metadata": {},
   "outputs": [
    {
     "name": "stdout",
     "output_type": "stream",
     "text": [
      "Probabilty of student being hosteler if has A grade : 0.6923076923076923\n"
     ]
    }
   ],
   "source": [
    "P_hostel_A = P_hostel * P_A_hostel / (P_hostel*P_A_hostel + P_dayScholar * P_A_dayScholar)\n",
    "print(f\"Probabilty of student being hosteler if has A grade : {P_hostel_A}\")"
   ]
  },
  {
   "cell_type": "markdown",
   "id": "3b0ac0bf",
   "metadata": {},
   "source": [
    "### Question 1(b)"
   ]
  },
  {
   "cell_type": "code",
   "execution_count": 129,
   "id": "bf4d574d",
   "metadata": {},
   "outputs": [],
   "source": [
    "P_disease = 0.01\n",
    "P_pos_disease = 0.99\n",
    "P_pos_noDisease = 0.02"
   ]
  },
  {
   "cell_type": "code",
   "execution_count": 130,
   "id": "69e2c23c",
   "metadata": {},
   "outputs": [],
   "source": [
    "P_noDisease = 1 - P_disease"
   ]
  },
  {
   "cell_type": "code",
   "execution_count": 131,
   "id": "58c0e9b4",
   "metadata": {},
   "outputs": [
    {
     "name": "stdout",
     "output_type": "stream",
     "text": [
      "Probabilty of having disease if positive test result : 0.3333333333333333\n"
     ]
    }
   ],
   "source": [
    "P_disease_pos = P_disease * P_pos_disease / (P_disease*P_pos_disease + P_noDisease*P_pos_noDisease)\n",
    "print(f\"Probabilty of having disease if positive test result : {P_disease_pos}\")"
   ]
  },
  {
   "cell_type": "markdown",
   "id": "facff199",
   "metadata": {},
   "source": [
    "### Question 2"
   ]
  },
  {
   "cell_type": "code",
   "execution_count": 132,
   "id": "c9710830",
   "metadata": {},
   "outputs": [
    {
     "data": {
      "text/html": [
       "<div>\n",
       "<style scoped>\n",
       "    .dataframe tbody tr th:only-of-type {\n",
       "        vertical-align: middle;\n",
       "    }\n",
       "\n",
       "    .dataframe tbody tr th {\n",
       "        vertical-align: top;\n",
       "    }\n",
       "\n",
       "    .dataframe thead th {\n",
       "        text-align: right;\n",
       "    }\n",
       "</style>\n",
       "<table border=\"1\" class=\"dataframe\">\n",
       "  <thead>\n",
       "    <tr style=\"text-align: right;\">\n",
       "      <th></th>\n",
       "      <th>age</th>\n",
       "      <th>income</th>\n",
       "      <th>student</th>\n",
       "      <th>credit_rating</th>\n",
       "      <th>buys_computer</th>\n",
       "    </tr>\n",
       "  </thead>\n",
       "  <tbody>\n",
       "    <tr>\n",
       "      <th>0</th>\n",
       "      <td>&lt;=30</td>\n",
       "      <td>high</td>\n",
       "      <td>no</td>\n",
       "      <td>fair</td>\n",
       "      <td>no</td>\n",
       "    </tr>\n",
       "    <tr>\n",
       "      <th>1</th>\n",
       "      <td>&lt;=30</td>\n",
       "      <td>high</td>\n",
       "      <td>no</td>\n",
       "      <td>excellent</td>\n",
       "      <td>no</td>\n",
       "    </tr>\n",
       "    <tr>\n",
       "      <th>2</th>\n",
       "      <td>31…40</td>\n",
       "      <td>high</td>\n",
       "      <td>no</td>\n",
       "      <td>fair</td>\n",
       "      <td>no</td>\n",
       "    </tr>\n",
       "    <tr>\n",
       "      <th>3</th>\n",
       "      <td>&gt;40</td>\n",
       "      <td>medium</td>\n",
       "      <td>no</td>\n",
       "      <td>fair</td>\n",
       "      <td>no</td>\n",
       "    </tr>\n",
       "    <tr>\n",
       "      <th>4</th>\n",
       "      <td>&gt;40</td>\n",
       "      <td>low</td>\n",
       "      <td>yes</td>\n",
       "      <td>fair</td>\n",
       "      <td>yes</td>\n",
       "    </tr>\n",
       "    <tr>\n",
       "      <th>5</th>\n",
       "      <td>&gt;40</td>\n",
       "      <td>low</td>\n",
       "      <td>yes</td>\n",
       "      <td>excellent</td>\n",
       "      <td>no</td>\n",
       "    </tr>\n",
       "    <tr>\n",
       "      <th>6</th>\n",
       "      <td>31…40</td>\n",
       "      <td>low</td>\n",
       "      <td>yes</td>\n",
       "      <td>excellent</td>\n",
       "      <td>yes</td>\n",
       "    </tr>\n",
       "    <tr>\n",
       "      <th>7</th>\n",
       "      <td>&lt;=30</td>\n",
       "      <td>medium</td>\n",
       "      <td>no</td>\n",
       "      <td>fair</td>\n",
       "      <td>no</td>\n",
       "    </tr>\n",
       "    <tr>\n",
       "      <th>8</th>\n",
       "      <td>&lt;=30</td>\n",
       "      <td>low</td>\n",
       "      <td>yes</td>\n",
       "      <td>fair</td>\n",
       "      <td>yes</td>\n",
       "    </tr>\n",
       "    <tr>\n",
       "      <th>9</th>\n",
       "      <td>&gt;40</td>\n",
       "      <td>medium</td>\n",
       "      <td>yes</td>\n",
       "      <td>fair</td>\n",
       "      <td>yes</td>\n",
       "    </tr>\n",
       "    <tr>\n",
       "      <th>10</th>\n",
       "      <td>&lt;=30</td>\n",
       "      <td>medium</td>\n",
       "      <td>yes</td>\n",
       "      <td>excellent</td>\n",
       "      <td>yes</td>\n",
       "    </tr>\n",
       "    <tr>\n",
       "      <th>11</th>\n",
       "      <td>31…40</td>\n",
       "      <td>medium</td>\n",
       "      <td>no</td>\n",
       "      <td>excellent</td>\n",
       "      <td>yes</td>\n",
       "    </tr>\n",
       "    <tr>\n",
       "      <th>12</th>\n",
       "      <td>31…40</td>\n",
       "      <td>high</td>\n",
       "      <td>yes</td>\n",
       "      <td>fair</td>\n",
       "      <td>yes</td>\n",
       "    </tr>\n",
       "    <tr>\n",
       "      <th>13</th>\n",
       "      <td>&gt;40</td>\n",
       "      <td>medium</td>\n",
       "      <td>no</td>\n",
       "      <td>excellent</td>\n",
       "      <td>no</td>\n",
       "    </tr>\n",
       "  </tbody>\n",
       "</table>\n",
       "</div>"
      ],
      "text/plain": [
       "      age  income student credit_rating buys_computer\n",
       "0    <=30    high      no          fair            no\n",
       "1    <=30    high      no     excellent            no\n",
       "2   31…40    high      no          fair            no\n",
       "3     >40  medium      no          fair            no\n",
       "4     >40     low     yes          fair           yes\n",
       "5     >40     low     yes     excellent            no\n",
       "6   31…40     low     yes     excellent           yes\n",
       "7    <=30  medium      no          fair            no\n",
       "8    <=30     low     yes          fair           yes\n",
       "9     >40  medium     yes          fair           yes\n",
       "10   <=30  medium     yes     excellent           yes\n",
       "11  31…40  medium      no     excellent           yes\n",
       "12  31…40    high     yes          fair           yes\n",
       "13    >40  medium      no     excellent            no"
      ]
     },
     "execution_count": 132,
     "metadata": {},
     "output_type": "execute_result"
    }
   ],
   "source": [
    "df = pd.read_csv(\"w7q2.csv\")\n",
    "df"
   ]
  },
  {
   "cell_type": "code",
   "execution_count": 133,
   "id": "e6c6d244",
   "metadata": {},
   "outputs": [
    {
     "name": "stdout",
     "output_type": "stream",
     "text": [
      "The predicted class for the sample is: no\n"
     ]
    }
   ],
   "source": [
    "from collections import defaultdict\n",
    "def naive_bayes_train(df):\n",
    "    priors = df['buys_computer'].value_counts(normalize=True).to_dict()\n",
    "    features = df.columns[:-1]\n",
    "    conditional_probs = defaultdict(lambda: defaultdict(lambda: defaultdict(float)))\n",
    "    \n",
    "    for feature in features:\n",
    "        for value in df[feature].unique():\n",
    "            for outcome in df['buys_computer'].unique():\n",
    "                subset = df[df['buys_computer'] == outcome]\n",
    "                prob = (subset[feature] == value).sum() / len(subset)\n",
    "                conditional_probs[feature][value][outcome] = prob\n",
    "                \n",
    "    return priors, conditional_probs\n",
    "\n",
    "def naive_bayes_predict(priors, conditional_probs, sample):\n",
    "    posteriors = dict.fromkeys(priors.keys(), 1)\n",
    "    for outcome in priors:\n",
    "        posteriors[outcome] = np.log(priors[outcome])\n",
    "        for feature, value in sample.items():\n",
    "            prob = conditional_probs[feature][value].get(outcome, 1e-10)\n",
    "            posteriors[outcome] += np.log(prob)\n",
    "    return max(posteriors, key=posteriors.get)\n",
    "\n",
    "priors, conditional_probs = naive_bayes_train(df)\n",
    "sample = {'age': '31…40', 'income': 'medium', 'student': 'no', 'credit_rating': 'excellent'}\n",
    "prediction = naive_bayes_predict(priors, conditional_probs, sample)\n",
    "print(f'The predicted class for the sample is: {prediction}')"
   ]
  },
  {
   "cell_type": "markdown",
   "id": "a36d7ad0",
   "metadata": {},
   "source": [
    "### Question 3"
   ]
  },
  {
   "cell_type": "code",
   "execution_count": 134,
   "id": "dbbbb3c4",
   "metadata": {},
   "outputs": [
    {
     "data": {
      "text/html": [
       "<div>\n",
       "<style scoped>\n",
       "    .dataframe tbody tr th:only-of-type {\n",
       "        vertical-align: middle;\n",
       "    }\n",
       "\n",
       "    .dataframe tbody tr th {\n",
       "        vertical-align: top;\n",
       "    }\n",
       "\n",
       "    .dataframe thead th {\n",
       "        text-align: right;\n",
       "    }\n",
       "</style>\n",
       "<table border=\"1\" class=\"dataframe\">\n",
       "  <thead>\n",
       "    <tr style=\"text-align: right;\">\n",
       "      <th></th>\n",
       "      <th>text</th>\n",
       "      <th>tag</th>\n",
       "    </tr>\n",
       "  </thead>\n",
       "  <tbody>\n",
       "    <tr>\n",
       "      <th>0</th>\n",
       "      <td>A great game</td>\n",
       "      <td>Sports</td>\n",
       "    </tr>\n",
       "    <tr>\n",
       "      <th>1</th>\n",
       "      <td>The election was over</td>\n",
       "      <td>Not sports</td>\n",
       "    </tr>\n",
       "    <tr>\n",
       "      <th>2</th>\n",
       "      <td>Very clean match</td>\n",
       "      <td>Sports</td>\n",
       "    </tr>\n",
       "    <tr>\n",
       "      <th>3</th>\n",
       "      <td>A clean but forgettable game</td>\n",
       "      <td>Sports</td>\n",
       "    </tr>\n",
       "    <tr>\n",
       "      <th>4</th>\n",
       "      <td>It was a close election</td>\n",
       "      <td>Not sports</td>\n",
       "    </tr>\n",
       "  </tbody>\n",
       "</table>\n",
       "</div>"
      ],
      "text/plain": [
       "                           text         tag\n",
       "0                  A great game      Sports\n",
       "1         The election was over  Not sports\n",
       "2              Very clean match      Sports\n",
       "3  A clean but forgettable game      Sports\n",
       "4       It was a close election  Not sports"
      ]
     },
     "execution_count": 134,
     "metadata": {},
     "output_type": "execute_result"
    }
   ],
   "source": [
    "df = pd.read_csv('w7q3.csv')\n",
    "df"
   ]
  },
  {
   "cell_type": "code",
   "execution_count": 135,
   "id": "f1643fea",
   "metadata": {},
   "outputs": [
    {
     "name": "stdout",
     "output_type": "stream",
     "text": [
      "The predicted class for the sample text \"A very close game\" is: Sports\n"
     ]
    }
   ],
   "source": [
    "import pandas as pd\n",
    "import numpy as np\n",
    "import re\n",
    "from collections import Counter\n",
    "from sklearn.model_selection import train_test_split\n",
    "\n",
    "def preprocess_text(text):\n",
    "    text = text.lower()\n",
    "    text = re.sub(r'\\W', ' ', text) \n",
    "    text = re.sub(r'\\s+', ' ', text) \n",
    "    return text\n",
    "\n",
    "df['text'] = df['text'].apply(preprocess_text)\n",
    "\n",
    "train_df, test_df = train_test_split(df, test_size=0.2, random_state=42)\n",
    "\n",
    "def train_naive_bayes(train_df):\n",
    "    class_counts = train_df['tag'].value_counts().to_dict()\n",
    "    total_docs = len(train_df)\n",
    "    priors = {tag: count / total_docs for tag, count in class_counts.items()}\n",
    "    \n",
    "    word_counts = {tag: Counter() for tag in class_counts.keys()}\n",
    "    class_word_counts = {tag: 0 for tag in class_counts.keys()}\n",
    "    \n",
    "    for _, row in train_df.iterrows():\n",
    "        words = row['text'].split()\n",
    "        tag = row['tag']\n",
    "        class_word_counts[tag] += len(words)\n",
    "        for word in words:\n",
    "            word_counts[tag][word] += 1\n",
    "    vocab = set(word for words in word_counts.values() for word in words)\n",
    "\n",
    "    conditional_probs = {tag: {} for tag in class_counts.keys()}\n",
    "    \n",
    "    for tag in class_counts.keys():\n",
    "        total_words = class_word_counts[tag]\n",
    "        for word in vocab:\n",
    "            conditional_probs[tag][word] = (word_counts[tag].get(word, 0) + 1) / (total_words + len(vocab))\n",
    "    \n",
    "    return priors, conditional_probs, vocab, class_word_counts\n",
    "\n",
    "def predict_naive_bayes(text, priors, conditional_probs, vocab, class_word_counts):\n",
    "    words = text.split()\n",
    "    posteriors = {tag: np.log(prior) for tag, prior in priors.items()}\n",
    "    \n",
    "    for tag in priors:\n",
    "        for word in words:\n",
    "            prob = conditional_probs[tag].get(word, 1 / (class_word_counts[tag] + len(vocab)))\n",
    "            posteriors[tag] += np.log(prob)\n",
    "    \n",
    "    return max(posteriors, key=posteriors.get)\n",
    "\n",
    "priors, conditional_probs, vocab, class_word_counts = train_naive_bayes(train_df)\n",
    "\n",
    "sample_text = \"A very close game\"\n",
    "sample_text_processed = preprocess_text(sample_text)\n",
    "prediction = predict_naive_bayes(sample_text_processed, priors, conditional_probs, vocab, class_word_counts)\n",
    "print(f'The predicted class for the sample text \"{sample_text}\" is: {prediction}')"
   ]
  }
 ],
 "metadata": {
  "kernelspec": {
   "display_name": "Python 3 (ipykernel)",
   "language": "python",
   "name": "python3"
  },
  "language_info": {
   "codemirror_mode": {
    "name": "ipython",
    "version": 3
   },
   "file_extension": ".py",
   "mimetype": "text/x-python",
   "name": "python",
   "nbconvert_exporter": "python",
   "pygments_lexer": "ipython3",
   "version": "3.12.3"
  }
 },
 "nbformat": 4,
 "nbformat_minor": 5
}
