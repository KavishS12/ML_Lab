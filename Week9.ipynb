{
 "cells": [
  {
   "cell_type": "code",
   "execution_count": 2,
   "id": "49b7e194",
   "metadata": {},
   "outputs": [],
   "source": [
    "import numpy as np\n",
    "import pandas as pd\n",
    "from collections import Counter"
   ]
  },
  {
   "cell_type": "markdown",
   "id": "c47648d1",
   "metadata": {},
   "source": [
    "### Question 1"
   ]
  },
  {
   "cell_type": "code",
   "execution_count": 3,
   "id": "4bacf2a3",
   "metadata": {},
   "outputs": [
    {
     "data": {
      "text/html": [
       "<div>\n",
       "<style scoped>\n",
       "    .dataframe tbody tr th:only-of-type {\n",
       "        vertical-align: middle;\n",
       "    }\n",
       "\n",
       "    .dataframe tbody tr th {\n",
       "        vertical-align: top;\n",
       "    }\n",
       "\n",
       "    .dataframe thead th {\n",
       "        text-align: right;\n",
       "    }\n",
       "</style>\n",
       "<table border=\"1\" class=\"dataframe\">\n",
       "  <thead>\n",
       "    <tr style=\"text-align: right;\">\n",
       "      <th></th>\n",
       "      <th>Outlook</th>\n",
       "      <th>Temp</th>\n",
       "      <th>Humidity</th>\n",
       "      <th>Wind</th>\n",
       "      <th>Decision</th>\n",
       "    </tr>\n",
       "    <tr>\n",
       "      <th>Day</th>\n",
       "      <th></th>\n",
       "      <th></th>\n",
       "      <th></th>\n",
       "      <th></th>\n",
       "      <th></th>\n",
       "    </tr>\n",
       "  </thead>\n",
       "  <tbody>\n",
       "    <tr>\n",
       "      <th>1</th>\n",
       "      <td>Sunny</td>\n",
       "      <td>85</td>\n",
       "      <td>85</td>\n",
       "      <td>Weak</td>\n",
       "      <td>No</td>\n",
       "    </tr>\n",
       "    <tr>\n",
       "      <th>2</th>\n",
       "      <td>Sunny</td>\n",
       "      <td>80</td>\n",
       "      <td>90</td>\n",
       "      <td>Strong</td>\n",
       "      <td>No</td>\n",
       "    </tr>\n",
       "    <tr>\n",
       "      <th>3</th>\n",
       "      <td>Overcast</td>\n",
       "      <td>83</td>\n",
       "      <td>78</td>\n",
       "      <td>Weak</td>\n",
       "      <td>Yes</td>\n",
       "    </tr>\n",
       "    <tr>\n",
       "      <th>4</th>\n",
       "      <td>Rain</td>\n",
       "      <td>70</td>\n",
       "      <td>96</td>\n",
       "      <td>Weak</td>\n",
       "      <td>Yes</td>\n",
       "    </tr>\n",
       "    <tr>\n",
       "      <th>5</th>\n",
       "      <td>Rain</td>\n",
       "      <td>68</td>\n",
       "      <td>80</td>\n",
       "      <td>Weak</td>\n",
       "      <td>Yes</td>\n",
       "    </tr>\n",
       "    <tr>\n",
       "      <th>6</th>\n",
       "      <td>Rain</td>\n",
       "      <td>65</td>\n",
       "      <td>70</td>\n",
       "      <td>Strong</td>\n",
       "      <td>No</td>\n",
       "    </tr>\n",
       "    <tr>\n",
       "      <th>7</th>\n",
       "      <td>Overcast</td>\n",
       "      <td>64</td>\n",
       "      <td>65</td>\n",
       "      <td>Strong</td>\n",
       "      <td>Yes</td>\n",
       "    </tr>\n",
       "    <tr>\n",
       "      <th>8</th>\n",
       "      <td>Sunny</td>\n",
       "      <td>72</td>\n",
       "      <td>95</td>\n",
       "      <td>Weak</td>\n",
       "      <td>No</td>\n",
       "    </tr>\n",
       "    <tr>\n",
       "      <th>9</th>\n",
       "      <td>Sunny</td>\n",
       "      <td>69</td>\n",
       "      <td>70</td>\n",
       "      <td>Weak</td>\n",
       "      <td>Yes</td>\n",
       "    </tr>\n",
       "    <tr>\n",
       "      <th>10</th>\n",
       "      <td>Rain</td>\n",
       "      <td>75</td>\n",
       "      <td>80</td>\n",
       "      <td>Weak</td>\n",
       "      <td>Yes</td>\n",
       "    </tr>\n",
       "    <tr>\n",
       "      <th>11</th>\n",
       "      <td>Sunny</td>\n",
       "      <td>75</td>\n",
       "      <td>70</td>\n",
       "      <td>Strong</td>\n",
       "      <td>Yes</td>\n",
       "    </tr>\n",
       "    <tr>\n",
       "      <th>12</th>\n",
       "      <td>Overcast</td>\n",
       "      <td>72</td>\n",
       "      <td>90</td>\n",
       "      <td>Strong</td>\n",
       "      <td>Yes</td>\n",
       "    </tr>\n",
       "    <tr>\n",
       "      <th>13</th>\n",
       "      <td>Overcast</td>\n",
       "      <td>81</td>\n",
       "      <td>75</td>\n",
       "      <td>Weak</td>\n",
       "      <td>Yes</td>\n",
       "    </tr>\n",
       "    <tr>\n",
       "      <th>14</th>\n",
       "      <td>Rain</td>\n",
       "      <td>71</td>\n",
       "      <td>80</td>\n",
       "      <td>Strong</td>\n",
       "      <td>No</td>\n",
       "    </tr>\n",
       "  </tbody>\n",
       "</table>\n",
       "</div>"
      ],
      "text/plain": [
       "      Outlook  Temp  Humidity    Wind Decision\n",
       "Day                                           \n",
       "1       Sunny    85        85    Weak       No\n",
       "2       Sunny    80        90  Strong       No\n",
       "3    Overcast    83        78    Weak      Yes\n",
       "4        Rain    70        96    Weak      Yes\n",
       "5        Rain    68        80    Weak      Yes\n",
       "6        Rain    65        70  Strong       No\n",
       "7    Overcast    64        65  Strong      Yes\n",
       "8       Sunny    72        95    Weak       No\n",
       "9       Sunny    69        70    Weak      Yes\n",
       "10       Rain    75        80    Weak      Yes\n",
       "11      Sunny    75        70  Strong      Yes\n",
       "12   Overcast    72        90  Strong      Yes\n",
       "13   Overcast    81        75    Weak      Yes\n",
       "14       Rain    71        80  Strong       No"
      ]
     },
     "execution_count": 3,
     "metadata": {},
     "output_type": "execute_result"
    }
   ],
   "source": [
    "df = pd.read_csv('weather.csv',index_col = 'Day')\n",
    "df"
   ]
  },
  {
   "cell_type": "code",
   "execution_count": 4,
   "id": "6ba0bbbf",
   "metadata": {},
   "outputs": [
    {
     "data": {
      "text/plain": [
       "array([['Sunny', 85, 85, 'Weak', 'No'],\n",
       "       ['Sunny', 80, 90, 'Strong', 'No'],\n",
       "       ['Overcast', 83, 78, 'Weak', 'Yes'],\n",
       "       ['Rain', 70, 96, 'Weak', 'Yes'],\n",
       "       ['Rain', 68, 80, 'Weak', 'Yes'],\n",
       "       ['Rain', 65, 70, 'Strong', 'No'],\n",
       "       ['Overcast', 64, 65, 'Strong', 'Yes'],\n",
       "       ['Sunny', 72, 95, 'Weak', 'No'],\n",
       "       ['Sunny', 69, 70, 'Weak', 'Yes'],\n",
       "       ['Rain', 75, 80, 'Weak', 'Yes'],\n",
       "       ['Sunny', 75, 70, 'Strong', 'Yes'],\n",
       "       ['Overcast', 72, 90, 'Strong', 'Yes'],\n",
       "       ['Overcast', 81, 75, 'Weak', 'Yes'],\n",
       "       ['Rain', 71, 80, 'Strong', 'No']], dtype=object)"
      ]
     },
     "execution_count": 4,
     "metadata": {},
     "output_type": "execute_result"
    }
   ],
   "source": [
    "df = df.to_numpy()\n",
    "df"
   ]
  },
  {
   "cell_type": "code",
   "execution_count": 5,
   "id": "5e9c7322",
   "metadata": {},
   "outputs": [],
   "source": [
    "def entropy(data):\n",
    "    target = data[:, -1]\n",
    "    _, counts = np.unique(target, return_counts=True)\n",
    "    probabilities = counts / counts.sum()\n",
    "    return -sum(p * np.log2(p) for p in probabilities if p > 0)"
   ]
  },
  {
   "cell_type": "code",
   "execution_count": 6,
   "id": "14d02bb5",
   "metadata": {},
   "outputs": [],
   "source": [
    "def information_gain(data, split_attribute, base_entropy):\n",
    "    values, counts = np.unique(data[:, split_attribute], return_counts=True)\n",
    "    weighted_entropy = sum((counts[i] / sum(counts)) * entropy(data[data[:, split_attribute] == value]) for i, value in enumerate(values))\n",
    "    return base_entropy - weighted_entropy"
   ]
  },
  {
   "cell_type": "code",
   "execution_count": 7,
   "id": "78548b57",
   "metadata": {},
   "outputs": [],
   "source": [
    "def gain_ratio(data, split_attribute):\n",
    "    base_entropy = entropy(data)\n",
    "    info_gain = information_gain(data, split_attribute, base_entropy)\n",
    "    values, counts = np.unique(data[:, split_attribute], return_counts=True)\n",
    "    split_entropy = -sum((counts[i] / sum(counts)) * np.log2(counts[i] / sum(counts)) for i in range(len(values)) if counts[i] > 0)\n",
    "    if split_entropy == 0:\n",
    "        return 0\n",
    "    return info_gain / split_entropy"
   ]
  },
  {
   "cell_type": "code",
   "execution_count": 8,
   "id": "7902c97c",
   "metadata": {},
   "outputs": [],
   "source": [
    "def best_attribute_to_split(data):\n",
    "    num_attributes = data.shape[1] - 1\n",
    "    gain_ratios = [gain_ratio(data, i) for i in range(num_attributes)]\n",
    "    return np.argmax(gain_ratios)\n",
    "\n",
    "def build_tree_c45(data, attributes, tree=None):\n",
    "    target = data[:, -1]\n",
    "    unique_targets = np.unique(target)\n",
    "    \n",
    "    if len(unique_targets) == 1:\n",
    "        return unique_targets[0]\n",
    "    \n",
    "    if len(attributes) == 0:\n",
    "        return Counter(target).most_common(1)[0][0]\n",
    "    \n",
    "    best_attr_index = best_attribute_to_split(data)\n",
    "    best_attr = attributes[best_attr_index]\n",
    "    \n",
    "    if tree is None:\n",
    "        tree = {}\n",
    "        tree[best_attr] = {}\n",
    "\n",
    "    attr_values = np.unique(data[:, best_attr_index])\n",
    "    new_attributes = [attr for i, attr in enumerate(attributes) if i != best_attr_index]\n",
    "    \n",
    "    for value in attr_values:\n",
    "        subset = data[data[:, best_attr_index] == value]\n",
    "        subtree = build_tree_c45(subset, new_attributes)\n",
    "        tree[best_attr][value] = subtree\n",
    "    \n",
    "    return tree"
   ]
  },
  {
   "cell_type": "code",
   "execution_count": 9,
   "id": "44cb31fc",
   "metadata": {},
   "outputs": [],
   "source": [
    "def classify_c45(tree, sample, attributes):\n",
    "    if not isinstance(tree, dict):\n",
    "        return tree\n",
    "    root_attr = next(iter(tree))\n",
    "    attr_index = attributes.index(root_attr)\n",
    "    attr_value = sample[attr_index]\n",
    "    subtree = tree[root_attr].get(attr_value, None)\n",
    "    \n",
    "    if subtree is None:\n",
    "        print(f\"Missing branch for {root_attr} = {attr_value}\")\n",
    "        return None\n",
    "    \n",
    "    return classify_c45(subtree, sample, attributes) if isinstance(subtree, dict) else subtree\n"
   ]
  },
  {
   "cell_type": "code",
   "execution_count": 10,
   "id": "d262809b",
   "metadata": {},
   "outputs": [
    {
     "name": "stdout",
     "output_type": "stream",
     "text": [
      "Decision Tree: {'Temp': {64: 'Yes', 65: 'No', 68: 'Yes', 69: 'Yes', 70: 'Yes', 71: 'No', 72: {'Outlook': {'Overcast': 'Yes', 'Sunny': 'No'}}, 75: 'Yes', 80: 'No', 81: 'Yes', 83: 'Yes', 85: 'No'}}\n",
      "Classification of new sample: No\n"
     ]
    }
   ],
   "source": [
    "attributes = ['Outlook', 'Temp', 'Humidity', 'Wind']\n",
    "\n",
    "tree = build_tree_c45(df, attributes)\n",
    "print(\"Decision Tree:\", tree)\n",
    "sample = ['Sunny', 85,85, 'Strong']\n",
    "classification = classify_c45(tree, sample, attributes)\n",
    "print(\"Classification of new sample:\", classification)"
   ]
  },
  {
   "cell_type": "markdown",
   "id": "3ef82c87",
   "metadata": {},
   "source": [
    "### Question 2"
   ]
  },
  {
   "cell_type": "code",
   "execution_count": 11,
   "id": "84502f06",
   "metadata": {},
   "outputs": [],
   "source": [
    "def gini_impurity(data):\n",
    "    target = data[:, -1]\n",
    "    _, counts = np.unique(target, return_counts=True)\n",
    "    probabilities = counts / counts.sum()\n",
    "    return 1 - sum(p ** 2 for p in probabilities)\n",
    "\n",
    "def split_data(data, feature_index, threshold):\n",
    "    left_split = data[data[:, feature_index] <= threshold]\n",
    "    right_split = data[data[:, feature_index] > threshold]\n",
    "    return left_split, right_split"
   ]
  },
  {
   "cell_type": "code",
   "execution_count": 12,
   "id": "7be7fb09",
   "metadata": {},
   "outputs": [],
   "source": [
    "def weighted_gini(data, feature_index, threshold):\n",
    "    left_split, right_split = split_data(data, feature_index, threshold)\n",
    "    n = len(data)\n",
    "    weighted_impurity = (\n",
    "        len(left_split) / n * gini_impurity(left_split) + \n",
    "        len(right_split) / n * gini_impurity(right_split)\n",
    "    )\n",
    "    return weighted_impurity"
   ]
  },
  {
   "cell_type": "code",
   "execution_count": 13,
   "id": "39cbb0b8",
   "metadata": {},
   "outputs": [],
   "source": [
    "def best_split_for_feature(data, feature_index):\n",
    "    unique_values = np.unique(data[:, feature_index])\n",
    "    best_threshold, best_gini = None, float('inf')\n",
    "    \n",
    "    for threshold in unique_values:\n",
    "        current_gini = weighted_gini(data, feature_index, threshold)\n",
    "        if current_gini < best_gini:\n",
    "            best_gini, best_threshold = current_gini, threshold\n",
    "            \n",
    "    return best_threshold, best_gini\n",
    "\n",
    "def best_split(data):\n",
    "    num_features = data.shape[1] - 1\n",
    "    best_feature, best_threshold, best_gini = None, None, float('inf')\n",
    "    \n",
    "    for feature_index in range(num_features):\n",
    "        threshold, gini = best_split_for_feature(data, feature_index)\n",
    "        if gini < best_gini:\n",
    "            best_feature, best_threshold, best_gini = feature_index, threshold, gini\n",
    "            \n",
    "    return best_feature, best_threshold"
   ]
  },
  {
   "cell_type": "code",
   "execution_count": 14,
   "id": "a744be0d",
   "metadata": {},
   "outputs": [],
   "source": [
    "def build_tree_cart(data, depth=0, max_depth=3, min_samples_split=2):\n",
    "    target = data[:, -1]\n",
    "    unique_targets = np.unique(target)\n",
    "    \n",
    "    if len(unique_targets) == 1 or len(data) < min_samples_split or depth >= max_depth:\n",
    "        return Counter(target).most_common(1)[0][0]\n",
    "    \n",
    "    feature_index, threshold = best_split(data)\n",
    "    \n",
    "    if feature_index is None:\n",
    "        return Counter(target).most_common(1)[0][0]\n",
    "    \n",
    "    tree = {'feature': feature_index, 'threshold': threshold, 'left': None, 'right': None}\n",
    "    \n",
    "    left_split, right_split = split_data(data, feature_index, threshold)\n",
    "    tree['left'] = build_tree_cart(left_split, depth + 1, max_depth, min_samples_split)\n",
    "    tree['right'] = build_tree_cart(right_split, depth + 1, max_depth, min_samples_split)\n",
    "    \n",
    "    return tree"
   ]
  },
  {
   "cell_type": "code",
   "execution_count": 15,
   "id": "d64cfb15",
   "metadata": {},
   "outputs": [],
   "source": [
    "def classify_cart(tree, sample):\n",
    "    if isinstance(tree, dict):\n",
    "        feature_index, threshold = tree['feature'], tree['threshold']\n",
    "        if sample[feature_index] <= threshold:\n",
    "            return classify_cart(tree['left'], sample)\n",
    "        else:\n",
    "            return classify_cart(tree['right'], sample)\n",
    "    else:\n",
    "        return tree\n"
   ]
  },
  {
   "cell_type": "code",
   "execution_count": 16,
   "id": "9182e569",
   "metadata": {},
   "outputs": [
    {
     "name": "stdout",
     "output_type": "stream",
     "text": [
      "Decision Tree: {'feature': 0, 'threshold': 'Overcast', 'left': 'Yes', 'right': {'feature': 1, 'threshold': 75, 'left': {'feature': 1, 'threshold': 65, 'left': 'No', 'right': 'Yes'}, 'right': 'No'}}\n",
      "Classification of new sample: No\n"
     ]
    }
   ],
   "source": [
    "attributes = ['Outlook', 'Temp', 'Humidity', 'Wind']\n",
    "tree = build_tree_cart(df)\n",
    "print(\"Decision Tree:\", tree)\n",
    "sample = ['Sunny', 85, 85, 'Strong']\n",
    "classification = classify_cart(tree, sample)\n",
    "print(\"Classification of new sample:\", classification)"
   ]
  },
  {
   "cell_type": "markdown",
   "id": "a9b86732",
   "metadata": {},
   "source": [
    "### Question 3"
   ]
  },
  {
   "cell_type": "code",
   "execution_count": 17,
   "id": "e9462236",
   "metadata": {},
   "outputs": [
    {
     "data": {
      "text/plain": [
       "array([['Low', 'Good', 'Yes'],\n",
       "       ['Low', 'Bad', 'No'],\n",
       "       ['Medium', 'Good', 'Yes'],\n",
       "       ['Medium', 'Bad', 'Yes'],\n",
       "       ['High', 'Good', 'Yes'],\n",
       "       ['High', 'Bad', 'No']], dtype='<U6')"
      ]
     },
     "execution_count": 17,
     "metadata": {},
     "output_type": "execute_result"
    }
   ],
   "source": [
    "data = [\n",
    "    ['Low', 'Good', 'Yes'],\n",
    "    ['Low', 'Bad', 'No'],\n",
    "    ['Medium', 'Good', 'Yes'],\n",
    "    ['Medium', 'Bad', 'Yes'],\n",
    "    ['High', 'Good', 'Yes'],\n",
    "    ['High', 'Bad', 'No']\n",
    "]\n",
    "df = np.array(data)\n",
    "df"
   ]
  },
  {
   "cell_type": "code",
   "execution_count": 18,
   "id": "25c9045c",
   "metadata": {},
   "outputs": [],
   "source": [
    "attributes = ['Income','Credit','Loan Approved']\n",
    "sample = ['Low','Good']"
   ]
  },
  {
   "cell_type": "code",
   "execution_count": 19,
   "id": "774c841f",
   "metadata": {},
   "outputs": [],
   "source": [
    "from sklearn.tree import DecisionTreeClassifier"
   ]
  },
  {
   "cell_type": "markdown",
   "id": "319c7d8d",
   "metadata": {},
   "source": [
    "#### C4.5 algorithm"
   ]
  },
  {
   "cell_type": "code",
   "execution_count": 20,
   "id": "cefa668c",
   "metadata": {},
   "outputs": [
    {
     "name": "stdout",
     "output_type": "stream",
     "text": [
      "Decision Tree: {'feature': 0, 'threshold': 'Overcast', 'left': 'Yes', 'right': {'feature': 1, 'threshold': 75, 'left': {'feature': 1, 'threshold': 65, 'left': 'No', 'right': 'Yes'}, 'right': 'No'}}\n",
      "Classification of new sample: Yes\n"
     ]
    }
   ],
   "source": [
    "tree_c45 = build_tree_c45(df, attributes)\n",
    "print(\"Decision Tree:\", tree)\n",
    "classification = classify_c45(tree_c45, sample, attributes)\n",
    "print(\"Classification of new sample:\", classification)"
   ]
  },
  {
   "cell_type": "code",
   "execution_count": 21,
   "id": "8f6d35e3",
   "metadata": {},
   "outputs": [
    {
     "ename": "NameError",
     "evalue": "name 'LabelEncoder' is not defined",
     "output_type": "error",
     "traceback": [
      "\u001b[0;31m---------------------------------------------------------------------------\u001b[0m",
      "\u001b[0;31mNameError\u001b[0m                                 Traceback (most recent call last)",
      "Cell \u001b[0;32mIn[21], line 3\u001b[0m\n\u001b[1;32m      1\u001b[0m X \u001b[38;5;241m=\u001b[39m [row[:\u001b[38;5;241m2\u001b[39m] \u001b[38;5;28;01mfor\u001b[39;00m row \u001b[38;5;129;01min\u001b[39;00m data]\n\u001b[1;32m      2\u001b[0m y \u001b[38;5;241m=\u001b[39m [row[\u001b[38;5;241m2\u001b[39m] \u001b[38;5;28;01mfor\u001b[39;00m row \u001b[38;5;129;01min\u001b[39;00m data]\n\u001b[0;32m----> 3\u001b[0m le_X_income \u001b[38;5;241m=\u001b[39m \u001b[43mLabelEncoder\u001b[49m()\n\u001b[1;32m      4\u001b[0m le_X_credit \u001b[38;5;241m=\u001b[39m LabelEncoder()\n\u001b[1;32m      5\u001b[0m le_y \u001b[38;5;241m=\u001b[39m LabelEncoder()\n",
      "\u001b[0;31mNameError\u001b[0m: name 'LabelEncoder' is not defined"
     ]
    }
   ],
   "source": [
    "X = [row[:2] for row in data]\n",
    "y = [row[2] for row in data]\n",
    "le_X_income = LabelEncoder()\n",
    "le_X_credit = LabelEncoder()\n",
    "le_y = LabelEncoder()\n",
    "\n",
    "X_encoded = np.column_stack((\n",
    "    le_X_income.fit_transform([row[0] for row in X]),\n",
    "    le_X_credit.fit_transform([row[1] for row in X])\n",
    "))\n",
    "\n",
    "y_encoded = le_y.fit_transform(y)\n",
    "\n",
    "c4_5_model = DecisionTreeClassifier(criterion=\"entropy\")\n",
    "c4_5_model.fit(X_encoded, y_encoded)\n",
    "\n",
    "sample_encoded = np.array([\n",
    "    le_X_income.transform([sample[0]])[0],  \n",
    "    le_X_credit.transform([sample[1]])[0]\n",
    "]).reshape(1, -1)\n",
    "\n",
    "# Predict using C4.5-like model\n",
    "c4_5_prediction = c4_5_model.predict(sample_encoded)\n",
    "c4_5_prediction_label = le_y.inverse_transform(c4_5_prediction)\n",
    "print(\"C4.5-like Prediction:\", c4_5_prediction_label[0])\n"
   ]
  },
  {
   "cell_type": "markdown",
   "id": "98d584fd",
   "metadata": {},
   "source": [
    "#### CART algorithtm"
   ]
  },
  {
   "cell_type": "code",
   "execution_count": 22,
   "id": "850658db",
   "metadata": {},
   "outputs": [
    {
     "name": "stdout",
     "output_type": "stream",
     "text": [
      "Decision Tree: {'feature': 0, 'threshold': 'Overcast', 'left': 'Yes', 'right': {'feature': 1, 'threshold': 75, 'left': {'feature': 1, 'threshold': 65, 'left': 'No', 'right': 'Yes'}, 'right': 'No'}}\n",
      "Classification of new sample: Yes\n"
     ]
    }
   ],
   "source": [
    "tree_cart = build_tree_cart(df)\n",
    "print(\"Decision Tree:\", tree)\n",
    "classification = classify_cart(tree_cart, sample)\n",
    "print(\"Classification of new sample:\", classification)"
   ]
  },
  {
   "cell_type": "code",
   "execution_count": 23,
   "id": "48aa5e19",
   "metadata": {},
   "outputs": [
    {
     "ename": "NameError",
     "evalue": "name 'X_encoded' is not defined",
     "output_type": "error",
     "traceback": [
      "\u001b[0;31m---------------------------------------------------------------------------\u001b[0m",
      "\u001b[0;31mNameError\u001b[0m                                 Traceback (most recent call last)",
      "Cell \u001b[0;32mIn[23], line 2\u001b[0m\n\u001b[1;32m      1\u001b[0m cart_model \u001b[38;5;241m=\u001b[39m DecisionTreeClassifier(criterion\u001b[38;5;241m=\u001b[39m\u001b[38;5;124m\"\u001b[39m\u001b[38;5;124mgini\u001b[39m\u001b[38;5;124m\"\u001b[39m)\n\u001b[0;32m----> 2\u001b[0m cart_model\u001b[38;5;241m.\u001b[39mfit(\u001b[43mX_encoded\u001b[49m, y_encoded)\n\u001b[1;32m      4\u001b[0m cart_prediction \u001b[38;5;241m=\u001b[39m cart_model\u001b[38;5;241m.\u001b[39mpredict(sample_encoded)\n\u001b[1;32m      5\u001b[0m cart_prediction_label \u001b[38;5;241m=\u001b[39m le_y\u001b[38;5;241m.\u001b[39minverse_transform(cart_prediction)\n",
      "\u001b[0;31mNameError\u001b[0m: name 'X_encoded' is not defined"
     ]
    }
   ],
   "source": [
    "cart_model = DecisionTreeClassifier(criterion=\"gini\")\n",
    "cart_model.fit(X_encoded, y_encoded)\n",
    "\n",
    "cart_prediction = cart_model.predict(sample_encoded)\n",
    "cart_prediction_label = le_y.inverse_transform(cart_prediction)\n",
    "print(\"CART Prediction:\", cart_prediction_label[0])"
   ]
  },
  {
   "cell_type": "code",
   "execution_count": null,
   "id": "a441e671",
   "metadata": {},
   "outputs": [],
   "source": []
  }
 ],
 "metadata": {
  "kernelspec": {
   "display_name": "Python 3 (ipykernel)",
   "language": "python",
   "name": "python3"
  },
  "language_info": {
   "codemirror_mode": {
    "name": "ipython",
    "version": 3
   },
   "file_extension": ".py",
   "mimetype": "text/x-python",
   "name": "python",
   "nbconvert_exporter": "python",
   "pygments_lexer": "ipython3",
   "version": "3.12.3"
  }
 },
 "nbformat": 4,
 "nbformat_minor": 5
}
