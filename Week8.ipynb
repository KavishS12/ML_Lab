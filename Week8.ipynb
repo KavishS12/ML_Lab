{
 "cells": [
  {
   "cell_type": "code",
   "execution_count": 107,
   "id": "12b5b16b",
   "metadata": {},
   "outputs": [],
   "source": [
    "import numpy as np\n",
    "import pandas as pd\n",
    "import matplotlib.pyplot as plt"
   ]
  },
  {
   "cell_type": "markdown",
   "id": "2156bb96",
   "metadata": {},
   "source": [
    "## Question 1"
   ]
  },
  {
   "cell_type": "code",
   "execution_count": 108,
   "id": "253644ec",
   "metadata": {},
   "outputs": [],
   "source": [
    "df = pd.read_csv('w8q1.csv',index_col=\"Fruit_ID\")"
   ]
  },
  {
   "cell_type": "code",
   "execution_count": 109,
   "id": "61c2f245",
   "metadata": {},
   "outputs": [
    {
     "data": {
      "text/html": [
       "<div>\n",
       "<style scoped>\n",
       "    .dataframe tbody tr th:only-of-type {\n",
       "        vertical-align: middle;\n",
       "    }\n",
       "\n",
       "    .dataframe tbody tr th {\n",
       "        vertical-align: top;\n",
       "    }\n",
       "\n",
       "    .dataframe thead th {\n",
       "        text-align: right;\n",
       "    }\n",
       "</style>\n",
       "<table border=\"1\" class=\"dataframe\">\n",
       "  <thead>\n",
       "    <tr style=\"text-align: right;\">\n",
       "      <th></th>\n",
       "      <th>weight</th>\n",
       "      <th>sweetness_level</th>\n",
       "      <th>Label</th>\n",
       "    </tr>\n",
       "    <tr>\n",
       "      <th>Fruit_ID</th>\n",
       "      <th></th>\n",
       "      <th></th>\n",
       "      <th></th>\n",
       "    </tr>\n",
       "  </thead>\n",
       "  <tbody>\n",
       "    <tr>\n",
       "      <th>1</th>\n",
       "      <td>180</td>\n",
       "      <td>7</td>\n",
       "      <td>Apple</td>\n",
       "    </tr>\n",
       "    <tr>\n",
       "      <th>2</th>\n",
       "      <td>200</td>\n",
       "      <td>6</td>\n",
       "      <td>Apple</td>\n",
       "    </tr>\n",
       "    <tr>\n",
       "      <th>3</th>\n",
       "      <td>150</td>\n",
       "      <td>4</td>\n",
       "      <td>Orange</td>\n",
       "    </tr>\n",
       "    <tr>\n",
       "      <th>4</th>\n",
       "      <td>170</td>\n",
       "      <td>5</td>\n",
       "      <td>Orange</td>\n",
       "    </tr>\n",
       "    <tr>\n",
       "      <th>5</th>\n",
       "      <td>160</td>\n",
       "      <td>6</td>\n",
       "      <td>Apple</td>\n",
       "    </tr>\n",
       "    <tr>\n",
       "      <th>6</th>\n",
       "      <td>140</td>\n",
       "      <td>3</td>\n",
       "      <td>Orange</td>\n",
       "    </tr>\n",
       "  </tbody>\n",
       "</table>\n",
       "</div>"
      ],
      "text/plain": [
       "          weight  sweetness_level   Label\n",
       "Fruit_ID                                 \n",
       "1            180                7   Apple\n",
       "2            200                6   Apple\n",
       "3            150                4  Orange\n",
       "4            170                5  Orange\n",
       "5            160                6   Apple\n",
       "6            140                3  Orange"
      ]
     },
     "execution_count": 109,
     "metadata": {},
     "output_type": "execute_result"
    }
   ],
   "source": [
    "df"
   ]
  },
  {
   "cell_type": "code",
   "execution_count": 110,
   "id": "ed0b9e79",
   "metadata": {},
   "outputs": [],
   "source": [
    "w0 = 165\n",
    "s0 = 5.5"
   ]
  },
  {
   "cell_type": "code",
   "execution_count": 111,
   "id": "a8641c65",
   "metadata": {},
   "outputs": [
    {
     "data": {
      "text/plain": [
       "array([15.07481343, 35.00357125, 15.07481343,  5.02493781,  5.02493781,\n",
       "       25.12468905])"
      ]
     },
     "execution_count": 111,
     "metadata": {},
     "output_type": "execute_result"
    }
   ],
   "source": [
    "euclidean_dist = np.array(np.sqrt((w0-df['weight'])**2 + (s0-df['sweetness_level'])**2))\n",
    "euclidean_dist"
   ]
  },
  {
   "cell_type": "code",
   "execution_count": 112,
   "id": "8038ac03",
   "metadata": {},
   "outputs": [
    {
     "data": {
      "text/plain": [
       "array([16.5, 35.5, 16.5,  5.5,  5.5, 27.5])"
      ]
     },
     "execution_count": 112,
     "metadata": {},
     "output_type": "execute_result"
    }
   ],
   "source": [
    "manhattan_dist = np.array(np.abs(w0-df['weight']) + np.abs(s0-df['sweetness_level']))\n",
    "manhattan_dist"
   ]
  },
  {
   "cell_type": "code",
   "execution_count": 113,
   "id": "a07fabe6",
   "metadata": {},
   "outputs": [
    {
     "data": {
      "text/plain": [
       "array([15.00037499, 35.00000036, 15.00037499,  5.000125  ,  5.000125  ,\n",
       "       25.00062498])"
      ]
     },
     "execution_count": 113,
     "metadata": {},
     "output_type": "execute_result"
    }
   ],
   "source": [
    "p = 4\n",
    "minkowski_dist = np.array(((w0-df['weight'])**p + (s0-df['sweetness_level'])**p)**(1/p))\n",
    "minkowski_dist"
   ]
  },
  {
   "cell_type": "code",
   "execution_count": 118,
   "id": "1741a1ac",
   "metadata": {},
   "outputs": [
    {
     "data": {
      "text/html": [
       "<div>\n",
       "<style scoped>\n",
       "    .dataframe tbody tr th:only-of-type {\n",
       "        vertical-align: middle;\n",
       "    }\n",
       "\n",
       "    .dataframe tbody tr th {\n",
       "        vertical-align: top;\n",
       "    }\n",
       "\n",
       "    .dataframe thead th {\n",
       "        text-align: right;\n",
       "    }\n",
       "</style>\n",
       "<table border=\"1\" class=\"dataframe\">\n",
       "  <thead>\n",
       "    <tr style=\"text-align: right;\">\n",
       "      <th></th>\n",
       "      <th>weight</th>\n",
       "      <th>sweetness_level</th>\n",
       "      <th>Label</th>\n",
       "      <th>euclidean_dist</th>\n",
       "    </tr>\n",
       "    <tr>\n",
       "      <th>Fruit_ID</th>\n",
       "      <th></th>\n",
       "      <th></th>\n",
       "      <th></th>\n",
       "      <th></th>\n",
       "    </tr>\n",
       "  </thead>\n",
       "  <tbody>\n",
       "    <tr>\n",
       "      <th>4</th>\n",
       "      <td>170</td>\n",
       "      <td>5</td>\n",
       "      <td>Orange</td>\n",
       "      <td>5.024938</td>\n",
       "    </tr>\n",
       "    <tr>\n",
       "      <th>5</th>\n",
       "      <td>160</td>\n",
       "      <td>6</td>\n",
       "      <td>Apple</td>\n",
       "      <td>5.024938</td>\n",
       "    </tr>\n",
       "    <tr>\n",
       "      <th>1</th>\n",
       "      <td>180</td>\n",
       "      <td>7</td>\n",
       "      <td>Apple</td>\n",
       "      <td>15.074813</td>\n",
       "    </tr>\n",
       "    <tr>\n",
       "      <th>3</th>\n",
       "      <td>150</td>\n",
       "      <td>4</td>\n",
       "      <td>Orange</td>\n",
       "      <td>15.074813</td>\n",
       "    </tr>\n",
       "    <tr>\n",
       "      <th>6</th>\n",
       "      <td>140</td>\n",
       "      <td>3</td>\n",
       "      <td>Orange</td>\n",
       "      <td>25.124689</td>\n",
       "    </tr>\n",
       "    <tr>\n",
       "      <th>2</th>\n",
       "      <td>200</td>\n",
       "      <td>6</td>\n",
       "      <td>Apple</td>\n",
       "      <td>35.003571</td>\n",
       "    </tr>\n",
       "  </tbody>\n",
       "</table>\n",
       "</div>"
      ],
      "text/plain": [
       "          weight  sweetness_level   Label  euclidean_dist\n",
       "Fruit_ID                                                 \n",
       "4            170                5  Orange        5.024938\n",
       "5            160                6   Apple        5.024938\n",
       "1            180                7   Apple       15.074813\n",
       "3            150                4  Orange       15.074813\n",
       "6            140                3  Orange       25.124689\n",
       "2            200                6   Apple       35.003571"
      ]
     },
     "execution_count": 118,
     "metadata": {},
     "output_type": "execute_result"
    }
   ],
   "source": [
    "# for euclidean distance\n",
    "df[\"euclidean_dist\"] = euclidean_dist\n",
    "sorted_df = df.sort_values(by=\"euclidean_dist\")\n",
    "sorted_df"
   ]
  },
  {
   "cell_type": "code",
   "execution_count": 119,
   "id": "9052137c",
   "metadata": {},
   "outputs": [
    {
     "name": "stdout",
     "output_type": "stream",
     "text": [
      "Predicted value for 165 grams and 5.5 sweetness level : Orange\n"
     ]
    }
   ],
   "source": [
    "nearest_neighbors = sorted_df[:k]\n",
    "predicted_value = nearest_neighbors['Label'].mode()[0]\n",
    "print(f'Predicted value for 165 grams and 5.5 sweetness level : {predicted_value}')"
   ]
  },
  {
   "cell_type": "code",
   "execution_count": 120,
   "id": "394c1d76",
   "metadata": {},
   "outputs": [
    {
     "name": "stdout",
     "output_type": "stream",
     "text": [
      "Predicted value for 165 grams and 5.5 sweetness level : Orange\n"
     ]
    }
   ],
   "source": [
    "k = 1\n",
    "nearest_neighbors = sorted_df[:k]\n",
    "predicted_value = nearest_neighbors['Label'].mode()[0]\n",
    "print(f'Predicted value for 165 grams and 5.5 sweetness level : {predicted_value}')"
   ]
  },
  {
   "cell_type": "code",
   "execution_count": 121,
   "id": "94152a30",
   "metadata": {},
   "outputs": [
    {
     "name": "stdout",
     "output_type": "stream",
     "text": [
      "Predicted value for 165 grams and 5.5 sweetness level : Orange\n"
     ]
    }
   ],
   "source": [
    "k = 5\n",
    "nearest_neighbors = sorted_df[:k]\n",
    "predicted_value = nearest_neighbors['Label'].mode()[0]\n",
    "print(f'Predicted value for 165 grams and 5.5 sweetness level : {predicted_value}')"
   ]
  },
  {
   "cell_type": "markdown",
   "id": "ba4946de",
   "metadata": {},
   "source": [
    "### Using sckit-learn"
   ]
  },
  {
   "cell_type": "code",
   "execution_count": 132,
   "id": "e7b3fd82",
   "metadata": {},
   "outputs": [
    {
     "name": "stdout",
     "output_type": "stream",
     "text": [
      "Predicted value using scikit learn:Orange\n"
     ]
    },
    {
     "name": "stderr",
     "output_type": "stream",
     "text": [
      "/usr/lib/python3/dist-packages/sklearn/base.py:493: UserWarning: X does not have valid feature names, but KNeighborsClassifier was fitted with feature names\n",
      "  warnings.warn(\n"
     ]
    }
   ],
   "source": [
    "from sklearn.model_selection import train_test_split\n",
    "from sklearn.neighbors import KNeighborsClassifier\n",
    "from sklearn.metrics import classification_report, confusion_matrix\n",
    "x = df[['weight', 'sweetness_level']]\n",
    "y = df['Label']\n",
    "knn = KNeighborsClassifier(n_neighbors=3)\n",
    "knn.fit(x, y)\n",
    "y_pred = knn.predict(np.array([[165,5.5]]))[0]\n",
    "print(f\"Predicted value using scikit learn:{y_pred}\")"
   ]
  },
  {
   "cell_type": "markdown",
   "id": "6ac3ac6d",
   "metadata": {},
   "source": [
    "## Question 2"
   ]
  },
  {
   "cell_type": "code",
   "execution_count": 199,
   "id": "d60351bf",
   "metadata": {},
   "outputs": [
    {
     "data": {
      "text/html": [
       "<div>\n",
       "<style scoped>\n",
       "    .dataframe tbody tr th:only-of-type {\n",
       "        vertical-align: middle;\n",
       "    }\n",
       "\n",
       "    .dataframe tbody tr th {\n",
       "        vertical-align: top;\n",
       "    }\n",
       "\n",
       "    .dataframe thead th {\n",
       "        text-align: right;\n",
       "    }\n",
       "</style>\n",
       "<table border=\"1\" class=\"dataframe\">\n",
       "  <thead>\n",
       "    <tr style=\"text-align: right;\">\n",
       "      <th></th>\n",
       "      <th>Age</th>\n",
       "      <th>Blood Pressure</th>\n",
       "      <th>Cholesterol</th>\n",
       "      <th>Diagnosis</th>\n",
       "    </tr>\n",
       "    <tr>\n",
       "      <th>Patient_ID</th>\n",
       "      <th></th>\n",
       "      <th></th>\n",
       "      <th></th>\n",
       "      <th></th>\n",
       "    </tr>\n",
       "  </thead>\n",
       "  <tbody>\n",
       "    <tr>\n",
       "      <th>1</th>\n",
       "      <td>30</td>\n",
       "      <td>High</td>\n",
       "      <td>High</td>\n",
       "      <td>Sick</td>\n",
       "    </tr>\n",
       "    <tr>\n",
       "      <th>2</th>\n",
       "      <td>45</td>\n",
       "      <td>Low</td>\n",
       "      <td>Normal</td>\n",
       "      <td>Healthy</td>\n",
       "    </tr>\n",
       "    <tr>\n",
       "      <th>3</th>\n",
       "      <td>50</td>\n",
       "      <td>High</td>\n",
       "      <td>High</td>\n",
       "      <td>Sick</td>\n",
       "    </tr>\n",
       "    <tr>\n",
       "      <th>4</th>\n",
       "      <td>35</td>\n",
       "      <td>Low</td>\n",
       "      <td>Normal</td>\n",
       "      <td>Healthy</td>\n",
       "    </tr>\n",
       "    <tr>\n",
       "      <th>5</th>\n",
       "      <td>60</td>\n",
       "      <td>High</td>\n",
       "      <td>High</td>\n",
       "      <td>Sick</td>\n",
       "    </tr>\n",
       "    <tr>\n",
       "      <th>6</th>\n",
       "      <td>55</td>\n",
       "      <td>Low</td>\n",
       "      <td>Normal</td>\n",
       "      <td>Healthy</td>\n",
       "    </tr>\n",
       "    <tr>\n",
       "      <th>7</th>\n",
       "      <td>40</td>\n",
       "      <td>High</td>\n",
       "      <td>High</td>\n",
       "      <td>Sick</td>\n",
       "    </tr>\n",
       "    <tr>\n",
       "      <th>8</th>\n",
       "      <td>25</td>\n",
       "      <td>Low</td>\n",
       "      <td>Normal</td>\n",
       "      <td>Healthy</td>\n",
       "    </tr>\n",
       "    <tr>\n",
       "      <th>9</th>\n",
       "      <td>65</td>\n",
       "      <td>High</td>\n",
       "      <td>High</td>\n",
       "      <td>Sick</td>\n",
       "    </tr>\n",
       "    <tr>\n",
       "      <th>10</th>\n",
       "      <td>45</td>\n",
       "      <td>Low</td>\n",
       "      <td>Normal</td>\n",
       "      <td>Healthy</td>\n",
       "    </tr>\n",
       "  </tbody>\n",
       "</table>\n",
       "</div>"
      ],
      "text/plain": [
       "            Age Blood Pressure Cholesterol Diagnosis\n",
       "Patient_ID                                          \n",
       "1            30           High       High       Sick\n",
       "2            45           Low       Normal   Healthy\n",
       "3            50           High       High       Sick\n",
       "4            35           Low       Normal   Healthy\n",
       "5            60           High       High       Sick\n",
       "6            55           Low       Normal   Healthy\n",
       "7            40           High       High       Sick\n",
       "8            25           Low       Normal   Healthy\n",
       "9            65           High        High      Sick\n",
       "10           45            Low      Normal   Healthy"
      ]
     },
     "execution_count": 199,
     "metadata": {},
     "output_type": "execute_result"
    }
   ],
   "source": [
    "df = pd.read_csv(\"w8q2.csv\",index_col = \"Patient_ID\")\n",
    "df"
   ]
  },
  {
   "cell_type": "code",
   "execution_count": 200,
   "id": "65eeaf65",
   "metadata": {},
   "outputs": [],
   "source": [
    "def entropy(column):\n",
    "    n = len(column)\n",
    "    p = column.value_counts(normalize=True)\n",
    "    return -np.sum(p * np.log2(p))"
   ]
  },
  {
   "cell_type": "code",
   "execution_count": 201,
   "id": "ca7d7d2d",
   "metadata": {},
   "outputs": [
    {
     "name": "stdout",
     "output_type": "stream",
     "text": [
      "Entropy of Diagnosis: 1.0000\n"
     ]
    }
   ],
   "source": [
    "target_entropy = entropy(df['Diagnosis'])\n",
    "print(f'Entropy of Diagnosis: {target_entropy:.4f}')"
   ]
  },
  {
   "cell_type": "code",
   "execution_count": 202,
   "id": "9e468e53",
   "metadata": {},
   "outputs": [],
   "source": [
    "def info_gain(df, feature, target):\n",
    "    total_entropy = entropy(df[target])\n",
    "    weighted_entropy = 0\n",
    "    for value in df[feature].unique():\n",
    "        subset = df[df[feature] == value]\n",
    "        weighted_entropy += (len(subset) / len(df)) * entropy(subset[target])\n",
    "    \n",
    "    return total_entropy - weighted_entropy"
   ]
  },
  {
   "cell_type": "code",
   "execution_count": 203,
   "id": "0f3b6a16",
   "metadata": {},
   "outputs": [
    {
     "name": "stdout",
     "output_type": "stream",
     "text": [
      "Information Gain for Age: 1.0000\n",
      "Information Gain for Blood Pressure: 1.0000\n",
      "Information Gain for Cholesterol: 1.0000\n"
     ]
    }
   ],
   "source": [
    "features = ['Age','Blood Pressure','Cholesterol']\n",
    "for feature in features:\n",
    "    ig = info_gain(df, feature, 'Diagnosis')\n",
    "    print(f'Information Gain for {feature}: {ig:.4f}')"
   ]
  },
  {
   "cell_type": "code",
   "execution_count": 204,
   "id": "cf3473c5",
   "metadata": {},
   "outputs": [
    {
     "name": "stdout",
     "output_type": "stream",
     "text": [
      "Root Node Feature: Age (Information Gain: 1.0000)\n"
     ]
    }
   ],
   "source": [
    "info_gains = {feature: information_gain(df, feature, 'Diagnosis') for feature in features}\n",
    "root_feature = max(info_gains, key=info_gains.get)\n",
    "print(f\"Root Node Feature: {root_feature} (Information Gain: {info_gains[root_feature]:.4f})\")"
   ]
  },
  {
   "cell_type": "code",
   "execution_count": 205,
   "id": "02690d3f",
   "metadata": {},
   "outputs": [],
   "source": [
    "decision_tree = {'feature': root_feature,'branches': {}}\n",
    "for value in df[root_feature].unique():\n",
    "    subset = df[df[root_feature] == value]\n",
    "    diagnosis_counts = subset['Diagnosis'].value_counts()\n",
    "    diagnosis = diagnosis_counts.idxmax()  # Take the most common diagnosis in this subset\n",
    "    decision_tree['branches'][value] = {\n",
    "        'label': diagnosis,\n",
    "        'count': diagnosis_counts.to_dict(),\n",
    "        'data': subset\n",
    "    }"
   ]
  },
  {
   "cell_type": "code",
   "execution_count": 206,
   "id": "42913528",
   "metadata": {},
   "outputs": [
    {
     "name": "stdout",
     "output_type": "stream",
     "text": [
      "\n",
      "Prediction for the new patient : {'label': 'Sick', 'count': {'Sick': 1}, 'data':             Age Blood Pressure Cholesterol Diagnosis\n",
      "Patient_ID                                          \n",
      "3            50           High       High       Sick}\n"
     ]
    }
   ],
   "source": [
    "new_patient = {'Age': 50,'Blood Pressure': 'Low','Cholesterol': 'Normal'}\n",
    "\n",
    "def predict(tree, patient):\n",
    "    if 'branches' not in tree:\n",
    "        return tree\n",
    "    feature_value = patient[tree['feature']]\n",
    "    if feature_value in tree['branches']:\n",
    "        return predict(tree['branches'][feature_value], patient)\n",
    "    else:\n",
    "        return None\n",
    "prediction = predict(decision_tree, new_patient)\n",
    "print(f\"\\nPrediction for the new patient : {prediction}\")"
   ]
  },
  {
   "cell_type": "markdown",
   "id": "e08708a0",
   "metadata": {},
   "source": [
    "### Using Scikit-learn"
   ]
  },
  {
   "cell_type": "code",
   "execution_count": 224,
   "id": "47b31b4a",
   "metadata": {},
   "outputs": [],
   "source": [
    "from sklearn.tree import DecisionTreeClassifier, export_text\n",
    "x = df[['Age', 'Blood Pressure', 'Cholesterol']]\n",
    "y = df['Diagnosis']\n",
    "x = pd.get_dummies(x, drop_first=True)"
   ]
  },
  {
   "cell_type": "code",
   "execution_count": 228,
   "id": "a7b509b1",
   "metadata": {},
   "outputs": [
    {
     "name": "stdout",
     "output_type": "stream",
     "text": [
      "Root Node Feature: Cholesterol_Normal\n",
      "\n",
      "Decision Tree Rules:\n",
      "|--- Cholesterol_Normal <= 0.50\n",
      "|   |--- class: Sick\n",
      "|--- Cholesterol_Normal >  0.50\n",
      "|   |--- class: Healthy\n",
      "\n"
     ]
    }
   ],
   "source": [
    "clf = DecisionTreeClassifier(criterion='entropy', random_state=42)\n",
    "clf.fit(x, y)\n",
    "root_node_feature_index = clf.tree_.feature[0]\n",
    "root_node_feature = x.columns[root_node_feature_index]\n",
    "print(f\"Root Node Feature: {root_node_feature}\")\n",
    "tree_rules = export_text(clf, feature_names=list(x.columns))\n",
    "print(\"\\nDecision Tree Rules:\")\n",
    "print(tree_rules)"
   ]
  },
  {
   "cell_type": "code",
   "execution_count": null,
   "id": "dcb6d919",
   "metadata": {},
   "outputs": [],
   "source": []
  }
 ],
 "metadata": {
  "kernelspec": {
   "display_name": "Python 3 (ipykernel)",
   "language": "python",
   "name": "python3"
  },
  "language_info": {
   "codemirror_mode": {
    "name": "ipython",
    "version": 3
   },
   "file_extension": ".py",
   "mimetype": "text/x-python",
   "name": "python",
   "nbconvert_exporter": "python",
   "pygments_lexer": "ipython3",
   "version": "3.12.3"
  }
 },
 "nbformat": 4,
 "nbformat_minor": 5
}
