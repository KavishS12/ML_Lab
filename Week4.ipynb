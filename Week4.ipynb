{
 "cells": [
  {
   "cell_type": "code",
   "execution_count": 131,
   "id": "e1281f99",
   "metadata": {},
   "outputs": [],
   "source": [
    "import numpy as np\n",
    "import pandas as pd\n",
    "import matplotlib.pyplot as plt"
   ]
  },
  {
   "cell_type": "code",
   "execution_count": 132,
   "id": "f53e41de",
   "metadata": {},
   "outputs": [],
   "source": [
    "temp = np.array([50,50,50,70,70,70,80,80,80,90,90,90,100,100,100])\n",
    "yield_data = np.array([3.3,2.8,2.9,2.3,2.6,2.1,2.5,2.9,2.4,3.0,3.1,2.8,3.3,3.5,3.0])"
   ]
  },
  {
   "cell_type": "code",
   "execution_count": 133,
   "id": "f5b2b7d8",
   "metadata": {},
   "outputs": [
    {
     "data": {
      "text/html": [
       "<div>\n",
       "<style scoped>\n",
       "    .dataframe tbody tr th:only-of-type {\n",
       "        vertical-align: middle;\n",
       "    }\n",
       "\n",
       "    .dataframe tbody tr th {\n",
       "        vertical-align: top;\n",
       "    }\n",
       "\n",
       "    .dataframe thead th {\n",
       "        text-align: right;\n",
       "    }\n",
       "</style>\n",
       "<table border=\"1\" class=\"dataframe\">\n",
       "  <thead>\n",
       "    <tr style=\"text-align: right;\">\n",
       "      <th></th>\n",
       "      <th>Temperature</th>\n",
       "      <th>Yield</th>\n",
       "    </tr>\n",
       "  </thead>\n",
       "  <tbody>\n",
       "    <tr>\n",
       "      <th>0</th>\n",
       "      <td>50</td>\n",
       "      <td>3.3</td>\n",
       "    </tr>\n",
       "    <tr>\n",
       "      <th>1</th>\n",
       "      <td>50</td>\n",
       "      <td>2.8</td>\n",
       "    </tr>\n",
       "    <tr>\n",
       "      <th>2</th>\n",
       "      <td>50</td>\n",
       "      <td>2.9</td>\n",
       "    </tr>\n",
       "    <tr>\n",
       "      <th>3</th>\n",
       "      <td>70</td>\n",
       "      <td>2.3</td>\n",
       "    </tr>\n",
       "    <tr>\n",
       "      <th>4</th>\n",
       "      <td>70</td>\n",
       "      <td>2.6</td>\n",
       "    </tr>\n",
       "    <tr>\n",
       "      <th>5</th>\n",
       "      <td>70</td>\n",
       "      <td>2.1</td>\n",
       "    </tr>\n",
       "    <tr>\n",
       "      <th>6</th>\n",
       "      <td>80</td>\n",
       "      <td>2.5</td>\n",
       "    </tr>\n",
       "    <tr>\n",
       "      <th>7</th>\n",
       "      <td>80</td>\n",
       "      <td>2.9</td>\n",
       "    </tr>\n",
       "    <tr>\n",
       "      <th>8</th>\n",
       "      <td>80</td>\n",
       "      <td>2.4</td>\n",
       "    </tr>\n",
       "    <tr>\n",
       "      <th>9</th>\n",
       "      <td>90</td>\n",
       "      <td>3.0</td>\n",
       "    </tr>\n",
       "    <tr>\n",
       "      <th>10</th>\n",
       "      <td>90</td>\n",
       "      <td>3.1</td>\n",
       "    </tr>\n",
       "    <tr>\n",
       "      <th>11</th>\n",
       "      <td>90</td>\n",
       "      <td>2.8</td>\n",
       "    </tr>\n",
       "    <tr>\n",
       "      <th>12</th>\n",
       "      <td>100</td>\n",
       "      <td>3.3</td>\n",
       "    </tr>\n",
       "    <tr>\n",
       "      <th>13</th>\n",
       "      <td>100</td>\n",
       "      <td>3.5</td>\n",
       "    </tr>\n",
       "    <tr>\n",
       "      <th>14</th>\n",
       "      <td>100</td>\n",
       "      <td>3.0</td>\n",
       "    </tr>\n",
       "  </tbody>\n",
       "</table>\n",
       "</div>"
      ],
      "text/plain": [
       "    Temperature  Yield\n",
       "0            50    3.3\n",
       "1            50    2.8\n",
       "2            50    2.9\n",
       "3            70    2.3\n",
       "4            70    2.6\n",
       "5            70    2.1\n",
       "6            80    2.5\n",
       "7            80    2.9\n",
       "8            80    2.4\n",
       "9            90    3.0\n",
       "10           90    3.1\n",
       "11           90    2.8\n",
       "12          100    3.3\n",
       "13          100    3.5\n",
       "14          100    3.0"
      ]
     },
     "execution_count": 133,
     "metadata": {},
     "output_type": "execute_result"
    }
   ],
   "source": [
    "df = pd.DataFrame({'Temperature':temp,\"Yield\":yield_data})\n",
    "df"
   ]
  },
  {
   "cell_type": "code",
   "execution_count": 134,
   "id": "ad4ad935",
   "metadata": {},
   "outputs": [],
   "source": [
    "df.to_csv(\"temp_yield_data.csv\",index=False)"
   ]
  },
  {
   "cell_type": "code",
   "execution_count": 135,
   "id": "6ce6ad1d",
   "metadata": {},
   "outputs": [
    {
     "data": {
      "image/png": "[encoded data removed]",
      "text/plain": [
       "<Figure size 640x480 with 1 Axes>"
      ]
     },
     "metadata": {},
     "output_type": "display_data"
    }
   ],
   "source": [
    "x = temp\n",
    "y = yield_data\n",
    "plt.scatter(x,y,color='red')\n",
    "plt.show()   "
   ]
  },
  {
   "cell_type": "markdown",
   "id": "66212e9a",
   "metadata": {},
   "source": [
    "### Linear Regression"
   ]
  },
  {
   "cell_type": "code",
   "execution_count": 136,
   "id": "d9ecacc0",
   "metadata": {},
   "outputs": [],
   "source": [
    "mean_x = np.mean(x)\n",
    "mean_y = np.mean(y)"
   ]
  },
  {
   "cell_type": "code",
   "execution_count": 137,
   "id": "35f4df0a",
   "metadata": {},
   "outputs": [
    {
     "name": "stdout",
     "output_type": "stream",
     "text": [
      "Intercept :  0.006756756756756758\n",
      "Slope :  2.306306306306306\n"
     ]
    }
   ],
   "source": [
    "B1 = np.sum((x-mean_x)*(y-mean_y)) / np.sum((x-mean_x)**2)\n",
    "B0 = mean_y - B1*mean_x\n",
    "print(\"Intercept : \",B1)\n",
    "print(\"Slope : \",B0)"
   ]
  },
  {
   "cell_type": "code",
   "execution_count": 138,
   "id": "5dc64911",
   "metadata": {},
   "outputs": [
    {
     "name": "stdout",
     "output_type": "stream",
     "text": [
      "[2.64414414 2.64414414 2.64414414 2.77927928 2.77927928 2.77927928\n",
      " 2.84684685 2.84684685 2.84684685 2.91441441 2.91441441 2.91441441\n",
      " 2.98198198 2.98198198 2.98198198]\n"
     ]
    }
   ],
   "source": [
    "y_pred = B0 + B1*x\n",
    "print(y_pred)"
   ]
  },
  {
   "cell_type": "code",
   "execution_count": 139,
   "id": "ca048e57",
   "metadata": {},
   "outputs": [
    {
     "name": "stdout",
     "output_type": "stream",
     "text": [
      "MSE :  0.13270870870870877\n",
      "RMSE :  0.36429206511905904\n"
     ]
    }
   ],
   "source": [
    "mse = np.mean((y-y_pred)**2)\n",
    "rmse = np.sqrt(mse)\n",
    "print(\"MSE : \",mse)\n",
    "print(\"RMSE : \",rmse)"
   ]
  },
  {
   "cell_type": "code",
   "execution_count": 140,
   "id": "52ad39bb",
   "metadata": {},
   "outputs": [
    {
     "data": {
      "image/png": "[encoded data removed]",
      "text/plain": [
       "<Figure size 640x480 with 1 Axes>"
      ]
     },
     "metadata": {},
     "output_type": "display_data"
    }
   ],
   "source": [
    "plt.scatter(x,y,color='red')\n",
    "plt.plot(x,y_pred,color='blue')\n",
    "plt.title(\"Linear fit\")\n",
    "plt.show()"
   ]
  },
  {
   "cell_type": "markdown",
   "id": "50acc8b6",
   "metadata": {},
   "source": [
    "### Polynomial Regression"
   ]
  },
  {
   "cell_type": "code",
   "execution_count": 141,
   "id": "6dab04af",
   "metadata": {},
   "outputs": [],
   "source": [
    "degree = 2\n",
    "x_poly = np.column_stack([x**i for i in range(degree+1)])\n",
    "B = np.linalg.inv(x_poly.T @ x_poly) @ (x_poly.T @ y)"
   ]
  },
  {
   "cell_type": "code",
   "execution_count": 142,
   "id": "d9755236",
   "metadata": {},
   "outputs": [
    {
     "name": "stdout",
     "output_type": "stream",
     "text": [
      "[2.96391753 2.96391753 2.96391753 2.47113402 2.47113402 2.47113402\n",
      " 2.54742268 2.54742268 2.54742268 2.83883162 2.83883162 2.83883162\n",
      " 3.34536082 3.34536082 3.34536082]\n"
     ]
    }
   ],
   "source": [
    "y_pred = x_poly @ B\n",
    "print(y_pred)"
   ]
  },
  {
   "cell_type": "code",
   "execution_count": 143,
   "id": "5a8d4601",
   "metadata": {},
   "outputs": [
    {
     "name": "stdout",
     "output_type": "stream",
     "text": [
      "MSE :  0.04778465063001146\n",
      "RMSE :  0.21859700508015076\n"
     ]
    }
   ],
   "source": [
    "mse = np.mean((y-y_pred)**2)\n",
    "rmse = np.sqrt(mse)\n",
    "print(\"MSE : \",mse)\n",
    "print(\"RMSE : \",rmse)"
   ]
  },
  {
   "cell_type": "code",
   "execution_count": 144,
   "id": "4d74e849",
   "metadata": {},
   "outputs": [
    {
     "data": {
      "image/png": "[encoded data removed]",
      "text/plain": [
       "<Figure size 640x480 with 1 Axes>"
      ]
     },
     "metadata": {},
     "output_type": "display_data"
    }
   ],
   "source": [
    "plt.scatter(x,y,color='red')\n",
    "plt.plot(x,y_pred,color='blue')\n",
    "plt.title(\"Quadratic fit\")\n",
    "plt.show()"
   ]
  },
  {
   "cell_type": "markdown",
   "id": "1d091f57",
   "metadata": {},
   "source": [
    "### Question 2"
   ]
  },
  {
   "cell_type": "code",
   "execution_count": 145,
   "id": "bd086437",
   "metadata": {},
   "outputs": [
    {
     "data": {
      "text/html": [
       "<div>\n",
       "<style scoped>\n",
       "    .dataframe tbody tr th:only-of-type {\n",
       "        vertical-align: middle;\n",
       "    }\n",
       "\n",
       "    .dataframe tbody tr th {\n",
       "        vertical-align: top;\n",
       "    }\n",
       "\n",
       "    .dataframe thead th {\n",
       "        text-align: right;\n",
       "    }\n",
       "</style>\n",
       "<table border=\"1\" class=\"dataframe\">\n",
       "  <thead>\n",
       "    <tr style=\"text-align: right;\">\n",
       "      <th></th>\n",
       "      <th>Infarc</th>\n",
       "      <th>Area</th>\n",
       "      <th>Group</th>\n",
       "      <th>X2</th>\n",
       "      <th>X3</th>\n",
       "    </tr>\n",
       "  </thead>\n",
       "  <tbody>\n",
       "    <tr>\n",
       "      <th>0</th>\n",
       "      <td>0.119</td>\n",
       "      <td>0.34</td>\n",
       "      <td>3</td>\n",
       "      <td>0</td>\n",
       "      <td>0</td>\n",
       "    </tr>\n",
       "    <tr>\n",
       "      <th>1</th>\n",
       "      <td>0.190</td>\n",
       "      <td>0.64</td>\n",
       "      <td>3</td>\n",
       "      <td>0</td>\n",
       "      <td>0</td>\n",
       "    </tr>\n",
       "    <tr>\n",
       "      <th>2</th>\n",
       "      <td>0.395</td>\n",
       "      <td>0.76</td>\n",
       "      <td>3</td>\n",
       "      <td>0</td>\n",
       "      <td>0</td>\n",
       "    </tr>\n",
       "    <tr>\n",
       "      <th>3</th>\n",
       "      <td>0.469</td>\n",
       "      <td>0.83</td>\n",
       "      <td>3</td>\n",
       "      <td>0</td>\n",
       "      <td>0</td>\n",
       "    </tr>\n",
       "    <tr>\n",
       "      <th>4</th>\n",
       "      <td>0.130</td>\n",
       "      <td>0.73</td>\n",
       "      <td>3</td>\n",
       "      <td>0</td>\n",
       "      <td>0</td>\n",
       "    </tr>\n",
       "    <tr>\n",
       "      <th>5</th>\n",
       "      <td>0.311</td>\n",
       "      <td>0.82</td>\n",
       "      <td>3</td>\n",
       "      <td>0</td>\n",
       "      <td>0</td>\n",
       "    </tr>\n",
       "    <tr>\n",
       "      <th>6</th>\n",
       "      <td>0.418</td>\n",
       "      <td>0.95</td>\n",
       "      <td>3</td>\n",
       "      <td>0</td>\n",
       "      <td>0</td>\n",
       "    </tr>\n",
       "    <tr>\n",
       "      <th>7</th>\n",
       "      <td>0.480</td>\n",
       "      <td>1.06</td>\n",
       "      <td>3</td>\n",
       "      <td>0</td>\n",
       "      <td>0</td>\n",
       "    </tr>\n",
       "    <tr>\n",
       "      <th>8</th>\n",
       "      <td>0.687</td>\n",
       "      <td>1.20</td>\n",
       "      <td>3</td>\n",
       "      <td>0</td>\n",
       "      <td>0</td>\n",
       "    </tr>\n",
       "    <tr>\n",
       "      <th>9</th>\n",
       "      <td>0.847</td>\n",
       "      <td>1.47</td>\n",
       "      <td>3</td>\n",
       "      <td>0</td>\n",
       "      <td>0</td>\n",
       "    </tr>\n",
       "    <tr>\n",
       "      <th>10</th>\n",
       "      <td>0.062</td>\n",
       "      <td>0.44</td>\n",
       "      <td>1</td>\n",
       "      <td>1</td>\n",
       "      <td>0</td>\n",
       "    </tr>\n",
       "    <tr>\n",
       "      <th>11</th>\n",
       "      <td>0.122</td>\n",
       "      <td>0.77</td>\n",
       "      <td>1</td>\n",
       "      <td>1</td>\n",
       "      <td>0</td>\n",
       "    </tr>\n",
       "    <tr>\n",
       "      <th>12</th>\n",
       "      <td>0.033</td>\n",
       "      <td>0.90</td>\n",
       "      <td>1</td>\n",
       "      <td>1</td>\n",
       "      <td>0</td>\n",
       "    </tr>\n",
       "    <tr>\n",
       "      <th>13</th>\n",
       "      <td>0.102</td>\n",
       "      <td>1.07</td>\n",
       "      <td>1</td>\n",
       "      <td>1</td>\n",
       "      <td>0</td>\n",
       "    </tr>\n",
       "    <tr>\n",
       "      <th>14</th>\n",
       "      <td>0.206</td>\n",
       "      <td>1.01</td>\n",
       "      <td>1</td>\n",
       "      <td>1</td>\n",
       "      <td>0</td>\n",
       "    </tr>\n",
       "    <tr>\n",
       "      <th>15</th>\n",
       "      <td>0.249</td>\n",
       "      <td>1.03</td>\n",
       "      <td>1</td>\n",
       "      <td>1</td>\n",
       "      <td>0</td>\n",
       "    </tr>\n",
       "    <tr>\n",
       "      <th>16</th>\n",
       "      <td>0.220</td>\n",
       "      <td>1.16</td>\n",
       "      <td>1</td>\n",
       "      <td>1</td>\n",
       "      <td>0</td>\n",
       "    </tr>\n",
       "    <tr>\n",
       "      <th>17</th>\n",
       "      <td>0.299</td>\n",
       "      <td>1.21</td>\n",
       "      <td>1</td>\n",
       "      <td>1</td>\n",
       "      <td>0</td>\n",
       "    </tr>\n",
       "    <tr>\n",
       "      <th>18</th>\n",
       "      <td>0.350</td>\n",
       "      <td>1.20</td>\n",
       "      <td>1</td>\n",
       "      <td>1</td>\n",
       "      <td>0</td>\n",
       "    </tr>\n",
       "    <tr>\n",
       "      <th>19</th>\n",
       "      <td>0.350</td>\n",
       "      <td>1.22</td>\n",
       "      <td>1</td>\n",
       "      <td>1</td>\n",
       "      <td>0</td>\n",
       "    </tr>\n",
       "    <tr>\n",
       "      <th>20</th>\n",
       "      <td>0.588</td>\n",
       "      <td>0.99</td>\n",
       "      <td>1</td>\n",
       "      <td>1</td>\n",
       "      <td>0</td>\n",
       "    </tr>\n",
       "    <tr>\n",
       "      <th>21</th>\n",
       "      <td>0.379</td>\n",
       "      <td>0.77</td>\n",
       "      <td>2</td>\n",
       "      <td>0</td>\n",
       "      <td>1</td>\n",
       "    </tr>\n",
       "    <tr>\n",
       "      <th>22</th>\n",
       "      <td>0.149</td>\n",
       "      <td>1.05</td>\n",
       "      <td>2</td>\n",
       "      <td>0</td>\n",
       "      <td>1</td>\n",
       "    </tr>\n",
       "    <tr>\n",
       "      <th>23</th>\n",
       "      <td>0.316</td>\n",
       "      <td>1.06</td>\n",
       "      <td>2</td>\n",
       "      <td>0</td>\n",
       "      <td>1</td>\n",
       "    </tr>\n",
       "    <tr>\n",
       "      <th>24</th>\n",
       "      <td>0.390</td>\n",
       "      <td>1.02</td>\n",
       "      <td>2</td>\n",
       "      <td>0</td>\n",
       "      <td>1</td>\n",
       "    </tr>\n",
       "    <tr>\n",
       "      <th>25</th>\n",
       "      <td>0.429</td>\n",
       "      <td>0.99</td>\n",
       "      <td>2</td>\n",
       "      <td>0</td>\n",
       "      <td>1</td>\n",
       "    </tr>\n",
       "    <tr>\n",
       "      <th>26</th>\n",
       "      <td>0.477</td>\n",
       "      <td>0.97</td>\n",
       "      <td>2</td>\n",
       "      <td>0</td>\n",
       "      <td>1</td>\n",
       "    </tr>\n",
       "    <tr>\n",
       "      <th>27</th>\n",
       "      <td>0.439</td>\n",
       "      <td>1.12</td>\n",
       "      <td>2</td>\n",
       "      <td>0</td>\n",
       "      <td>1</td>\n",
       "    </tr>\n",
       "    <tr>\n",
       "      <th>28</th>\n",
       "      <td>0.446</td>\n",
       "      <td>1.23</td>\n",
       "      <td>2</td>\n",
       "      <td>0</td>\n",
       "      <td>1</td>\n",
       "    </tr>\n",
       "    <tr>\n",
       "      <th>29</th>\n",
       "      <td>0.538</td>\n",
       "      <td>1.19</td>\n",
       "      <td>2</td>\n",
       "      <td>0</td>\n",
       "      <td>1</td>\n",
       "    </tr>\n",
       "    <tr>\n",
       "      <th>30</th>\n",
       "      <td>0.625</td>\n",
       "      <td>1.22</td>\n",
       "      <td>2</td>\n",
       "      <td>0</td>\n",
       "      <td>1</td>\n",
       "    </tr>\n",
       "    <tr>\n",
       "      <th>31</th>\n",
       "      <td>0.974</td>\n",
       "      <td>1.40</td>\n",
       "      <td>2</td>\n",
       "      <td>0</td>\n",
       "      <td>1</td>\n",
       "    </tr>\n",
       "  </tbody>\n",
       "</table>\n",
       "</div>"
      ],
      "text/plain": [
       "    Infarc  Area  Group  X2  X3\n",
       "0    0.119  0.34      3   0   0\n",
       "1    0.190  0.64      3   0   0\n",
       "2    0.395  0.76      3   0   0\n",
       "3    0.469  0.83      3   0   0\n",
       "4    0.130  0.73      3   0   0\n",
       "5    0.311  0.82      3   0   0\n",
       "6    0.418  0.95      3   0   0\n",
       "7    0.480  1.06      3   0   0\n",
       "8    0.687  1.20      3   0   0\n",
       "9    0.847  1.47      3   0   0\n",
       "10   0.062  0.44      1   1   0\n",
       "11   0.122  0.77      1   1   0\n",
       "12   0.033  0.90      1   1   0\n",
       "13   0.102  1.07      1   1   0\n",
       "14   0.206  1.01      1   1   0\n",
       "15   0.249  1.03      1   1   0\n",
       "16   0.220  1.16      1   1   0\n",
       "17   0.299  1.21      1   1   0\n",
       "18   0.350  1.20      1   1   0\n",
       "19   0.350  1.22      1   1   0\n",
       "20   0.588  0.99      1   1   0\n",
       "21   0.379  0.77      2   0   1\n",
       "22   0.149  1.05      2   0   1\n",
       "23   0.316  1.06      2   0   1\n",
       "24   0.390  1.02      2   0   1\n",
       "25   0.429  0.99      2   0   1\n",
       "26   0.477  0.97      2   0   1\n",
       "27   0.439  1.12      2   0   1\n",
       "28   0.446  1.23      2   0   1\n",
       "29   0.538  1.19      2   0   1\n",
       "30   0.625  1.22      2   0   1\n",
       "31   0.974  1.40      2   0   1"
      ]
     },
     "execution_count": 145,
     "metadata": {},
     "output_type": "execute_result"
    }
   ],
   "source": [
    "df2 = pd.read_csv('w4q2.csv')\n",
    "df2"
   ]
  },
  {
   "cell_type": "code",
   "execution_count": 146,
   "id": "f4746da2",
   "metadata": {},
   "outputs": [],
   "source": [
    "x = df2[['Area', 'Group', 'X2', 'X3']]\n",
    "y = df2['Infarc']"
   ]
  },
  {
   "cell_type": "code",
   "execution_count": 147,
   "id": "0ffae2f4",
   "metadata": {},
   "outputs": [
    {
     "name": "stdout",
     "output_type": "stream",
     "text": [
      "Coefficients (β): [ 2.4106875  -2.29393959 -0.15276563  0.164875    0.19164063]\n"
     ]
    }
   ],
   "source": [
    "x = np.hstack((np.ones((x.shape[0], 1)),x))\n",
    "beta = np.linalg.inv(x.T @ x) @ x.T @ y\n",
    "\n",
    "print(\"Coefficients (β):\", beta)"
   ]
  },
  {
   "cell_type": "code",
   "execution_count": 148,
   "id": "29d4b826",
   "metadata": {},
   "outputs": [
    {
     "data": {
      "text/plain": [
       "array([ 1.17245116,  0.48426929,  0.20899653,  0.04842076,  0.27781472,\n",
       "        0.07136016, -0.22685199, -0.47918534, -0.80033689, -1.41970058,\n",
       "        1.41346345,  0.65646339,  0.35825124, -0.03171849,  0.10591789,\n",
       "        0.06003909, -0.23817305, -0.35287003, -0.32993064, -0.37580943,\n",
       "        0.15179668,  0.53046339, -0.1118397 , -0.13477909, -0.04302151,\n",
       "        0.02579668,  0.07167547, -0.27241547, -0.52474882, -0.43299124,\n",
       "       -0.50180943, -0.91471856])"
      ]
     },
     "execution_count": 148,
     "metadata": {},
     "output_type": "execute_result"
    }
   ],
   "source": [
    "y_pred = x @ beta\n",
    "y_pred"
   ]
  },
  {
   "cell_type": "code",
   "execution_count": 149,
   "id": "066a4dfc",
   "metadata": {},
   "outputs": [
    {
     "name": "stdout",
     "output_type": "stream",
     "text": [
      "Errors :  0    -1.053451\n",
      "1    -0.294269\n",
      "2     0.186003\n",
      "3     0.420579\n",
      "4    -0.147815\n",
      "5     0.239640\n",
      "6     0.644852\n",
      "7     0.959185\n",
      "8     1.487337\n",
      "9     2.266701\n",
      "10   -1.351463\n",
      "11   -0.534463\n",
      "12   -0.325251\n",
      "13    0.133718\n",
      "14    0.100082\n",
      "15    0.188961\n",
      "16    0.458173\n",
      "17    0.651870\n",
      "18    0.679931\n",
      "19    0.725809\n",
      "20    0.436203\n",
      "21   -0.151463\n",
      "22    0.260840\n",
      "23    0.450779\n",
      "24    0.433022\n",
      "25    0.403203\n",
      "26    0.405325\n",
      "27    0.711415\n",
      "28    0.970749\n",
      "29    0.970991\n",
      "30    1.126809\n",
      "31    1.888719\n",
      "Name: Infarc, dtype: float64\n",
      "MSE :  0.6970504534086814\n",
      "RMSE :  0.8348954745407843\n"
     ]
    }
   ],
   "source": [
    "errors = y - y_pred\n",
    "mse = np.mean(errors**2)\n",
    "rmse = np.sqrt(mse)\n",
    "print(\"Errors : \",errors)\n",
    "print(\"MSE : \",mse)\n",
    "print(\"RMSE : \",rmse)"
   ]
  },
  {
   "cell_type": "code",
   "execution_count": 150,
   "id": "d2bba01c",
   "metadata": {},
   "outputs": [
    {
     "name": "stdout",
     "output_type": "stream",
     "text": [
      "Coefficients:\n",
      "Intercept: -0.1345\n",
      "Risk Area Coefficient: 0.6127\n",
      "Early Cooling Coefficient: -0.2435\n",
      "Late Cooling Coefficient: -0.0657\n",
      "\n",
      "Error Metrics:\n",
      "Mean Squared Error (MSE): 0.0170\n",
      "Root Mean Squared Error (RMSE): 0.1305\n"
     ]
    }
   ],
   "source": [
    "data=pd.read_csv('w4q2.csv')\n",
    "\n",
    "X = data[['Area', 'X2', 'X3']]\n",
    "y = data['Infarc']\n",
    "\n",
    "X = np.c_[np.ones(X.shape[0]), X]\n",
    "\n",
    "\n",
    "X_transpose = X.T\n",
    "X_transpose_X = X_transpose @ X\n",
    "X_transpose_X_inv = np.linalg.pinv(X_transpose_X)\n",
    "X_transpose_y = X_transpose @ y\n",
    "beta = X_transpose_X_inv @ X_transpose_y\n",
    "\n",
    "intercept, risk_coef, early_cooling_coef, late_cooling_coef = beta\n",
    "print(\"Coefficients:\")\n",
    "print(f\"Intercept: {intercept:.4f}\")\n",
    "print(f\"Risk Area Coefficient: {risk_coef:.4f}\")\n",
    "print(f\"Early Cooling Coefficient: {early_cooling_coef:.4f}\")\n",
    "print(f\"Late Cooling Coefficient: {late_cooling_coef:.4f}\")\n",
    "\n",
    "y_pred = X @ beta\n",
    "\n",
    "residuals = y - y_pred\n",
    "\n",
    "mse = np.mean(residuals**2)\n",
    "rmse = np.sqrt(mse)\n",
    "\n",
    "print(\"\\nError Metrics:\")\n",
    "print(f\"Mean Squared Error (MSE): {mse:.4f}\")\n",
    "print(f\"Root Mean Squared Error (RMSE): {rmse:.4f}\")"
   ]
  },
  {
   "cell_type": "code",
   "execution_count": 151,
   "id": "8a0eca10",
   "metadata": {},
   "outputs": [
    {
     "data": {
      "image/png": "[encoded data removed]",
      "text/plain": [
       "<Figure size 1000x600 with 1 Axes>"
      ]
     },
     "metadata": {},
     "output_type": "display_data"
    }
   ],
   "source": [
    "plt.figure(figsize=(10, 6))\n",
    "\n",
    "plt.scatter(data['Area'], y, color='blue', label='Actual Data')\n",
    "\n",
    "\n",
    "mean_early_cooling = np.mean(data['X2'])\n",
    "mean_late_cooling = np.mean(data['X3'])\n",
    "risk_area_range = np.linspace(data['Area'].min(), data['Area'].max(), 100)\n",
    "fit_line = intercept + risk_coef * risk_area_range + early_cooling_coef * mean_early_cooling + late_cooling_coef * mean_late_cooling\n",
    "\n",
    "plt.plot(risk_area_range, fit_line, color='red', label='Fitted Line')\n",
    "plt.xlabel('Size of Region at Risk')\n",
    "plt.ylabel('Size of Infarcted Area')\n",
    "plt.title('Infarcted Area vs. Risk Area')\n",
    "plt.legend()\n",
    "plt.show()"
   ]
  },
  {
   "cell_type": "code",
   "execution_count": null,
   "id": "f5fcf5a6",
   "metadata": {},
   "outputs": [],
   "source": []
  }
 ],
 "metadata": {
  "kernelspec": {
   "display_name": "Python 3 (ipykernel)",
   "language": "python",
   "name": "python3"
  },
  "language_info": {
   "codemirror_mode": {
    "name": "ipython",
    "version": 3
   },
   "file_extension": ".py",
   "mimetype": "text/x-python",
   "name": "python",
   "nbconvert_exporter": "python",
   "pygments_lexer": "ipython3",
   "version": "3.12.3"
  }
 },
 "nbformat": 4,
 "nbformat_minor": 5
}
