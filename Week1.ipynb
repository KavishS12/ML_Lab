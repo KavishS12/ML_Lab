{
 "cells": [
  {
   "cell_type": "code",
   "execution_count": 2,
   "id": "94a9afc4",
   "metadata": {},
   "outputs": [],
   "source": [
    "import numpy as np"
   ]
  },
  {
   "cell_type": "code",
   "execution_count": 4,
   "id": "d971ec7f",
   "metadata": {},
   "outputs": [
    {
     "name": "stdout",
     "output_type": "stream",
     "text": [
      "[[0 1 2]\n",
      " [3 4 5]\n",
      " [6 7 8]]\n"
     ]
    }
   ],
   "source": [
    "# question 1\n",
    "a = np.array([0, 1, 2, 3, 4, 5, 6, 7, 8])\n",
    "b = a.reshape(3,3)\n",
    "print(b)"
   ]
  },
  {
   "cell_type": "code",
   "execution_count": 5,
   "id": "7defe3d2",
   "metadata": {},
   "outputs": [
    {
     "name": "stdout",
     "output_type": "stream",
     "text": [
      "[ 0 -1  2 -1  4 -1  6 -1  8 -1]\n"
     ]
    }
   ],
   "source": [
    "# question 2\n",
    "a = np.array([0, 1, 2, 3, 4, 5, 6, 7, 8, 9])\n",
    "a[(a%2==1)] = -1\n",
    "print(a)"
   ]
  },
  {
   "cell_type": "code",
   "execution_count": 6,
   "id": "6253afb8",
   "metadata": {},
   "outputs": [
    {
     "name": "stdout",
     "output_type": "stream",
     "text": [
      "(array([1, 2, 4, 5, 6, 7, 8, 9]),)\n",
      "(array([0]),)\n"
     ]
    }
   ],
   "source": [
    "#question 3\n",
    "x = np.array([21, 64, 86, 22, 74, 55, 81, 79, 90, 89]) \n",
    "y = np.array([21, 7, 3, 45, 10, 29, 55, 4, 37, 18])\n",
    "res1 = np.where(x>y)\n",
    "print(res1)\n",
    "res2 = np.where(x==y)\n",
    "print(res2)"
   ]
  },
  {
   "cell_type": "code",
   "execution_count": 7,
   "id": "8f3982b4",
   "metadata": {},
   "outputs": [
    {
     "name": "stdout",
     "output_type": "stream",
     "text": [
      "[[ 0  1  2  3  4]\n",
      " [20 21 22 23 24]\n",
      " [40 41 42 43 44]\n",
      " [60 61 62 63 64]\n",
      " [80 81 82 83 84]]\n"
     ]
    }
   ],
   "source": [
    "# question 4\n",
    "a = np.arange(100).reshape(5,-1)\n",
    "print(a[:,0:5])"
   ]
  },
  {
   "cell_type": "code",
   "execution_count": 9,
   "id": "5635761b",
   "metadata": {},
   "outputs": [
    {
     "name": "stdout",
     "output_type": "stream",
     "text": [
      "[35 35 34 35 31 32 39 31 39 32]\n"
     ]
    }
   ],
   "source": [
    "# additional question 1\n",
    "a = np.random.randint(30,41,size=10)\n",
    "print(a)"
   ]
  },
  {
   "cell_type": "code",
   "execution_count": 10,
   "id": "b003b5bb",
   "metadata": {},
   "outputs": [
    {
     "name": "stdout",
     "output_type": "stream",
     "text": [
      "[[ 8 10 13]\n",
      " [ 8 10 12]\n",
      " [ 8 10 13]]\n",
      "[[-6 -6 -7]\n",
      " [ 0  0  0]\n",
      " [ 6  6  7]]\n",
      "46\n",
      "[12 15 19]\n",
      "[31 30 31]\n",
      "[[ 18  24  31]\n",
      " [ 54  69  88]\n",
      " [ 91 116 148]]\n",
      "[[ 8 10 13]\n",
      " [ 8 10 12]\n",
      " [ 8 10 13]]\n",
      "[[-6  0  6]\n",
      " [-6  0  6]\n",
      " [-7  0  7]]\n"
     ]
    }
   ],
   "source": [
    "# additional question 2\n",
    "a = np.array(((1,2,3),(4,5,6),(7,8,10)))\n",
    "b = np.array(((7,8,10),(4,5,6),(1,2,3)))\n",
    "c = a+b\n",
    "e = a-b\n",
    "print(c)\n",
    "print(e)\n",
    "print(a.sum())\n",
    "print(b.sum(axis=0))\n",
    "print(c.sum(axis=1))\n",
    "d = a.dot(b)\n",
    "print(d)\n",
    "print(np.sort(c))\n",
    "print(e.transpose())"
   ]
  },
  {
   "cell_type": "code",
   "execution_count": null,
   "id": "d0560459",
   "metadata": {},
   "outputs": [],
   "source": []
  }
 ],
 "metadata": {
  "kernelspec": {
   "display_name": "Python 3 (ipykernel)",
   "language": "python",
   "name": "python3"
  },
  "language_info": {
   "codemirror_mode": {
    "name": "ipython",
    "version": 3
   },
   "file_extension": ".py",
   "mimetype": "text/x-python",
   "name": "python",
   "nbconvert_exporter": "python",
   "pygments_lexer": "ipython3",
   "version": "3.12.3"
  }
 },
 "nbformat": 4,
 "nbformat_minor": 5
}
