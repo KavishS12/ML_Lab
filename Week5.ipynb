{
 "cells": [
  {
   "cell_type": "code",
   "execution_count": 876,
   "id": "a6c58683",
   "metadata": {},
   "outputs": [],
   "source": [
    "import numpy as np\n",
    "import pandas as pd\n",
    "import matplotlib.pyplot as plt\n",
    "from sklearn.preprocessing import StandardScaler\n",
    "from sklearn.linear_model import LinearRegression,LogisticRegression\n",
    "from sklearn.metrics import mean_squared_error, mean_absolute_error\n"
   ]
  },
  {
   "cell_type": "markdown",
   "id": "68c53161",
   "metadata": {},
   "source": [
    "## Question 1"
   ]
  },
  {
   "cell_type": "code",
   "execution_count": 877,
   "id": "0b4ef850",
   "metadata": {},
   "outputs": [
    {
     "data": {
      "text/plain": [
       "{'mother_height': [58, 62, 60, 64, 67, 70],\n",
       " 'daughter_height': [60, 60, 58, 60, 70, 72]}"
      ]
     },
     "execution_count": 877,
     "metadata": {},
     "output_type": "execute_result"
    }
   ],
   "source": [
    "data = {'mother_height':[58,62,60,64,67,70],\n",
    "        'daughter_height':[60,60,58,60,70,72]}\n",
    "data"
   ]
  },
  {
   "cell_type": "code",
   "execution_count": 878,
   "id": "de4f8f2d",
   "metadata": {},
   "outputs": [
    {
     "data": {
      "text/html": [
       "<div>\n",
       "<style scoped>\n",
       "    .dataframe tbody tr th:only-of-type {\n",
       "        vertical-align: middle;\n",
       "    }\n",
       "\n",
       "    .dataframe tbody tr th {\n",
       "        vertical-align: top;\n",
       "    }\n",
       "\n",
       "    .dataframe thead th {\n",
       "        text-align: right;\n",
       "    }\n",
       "</style>\n",
       "<table border=\"1\" class=\"dataframe\">\n",
       "  <thead>\n",
       "    <tr style=\"text-align: right;\">\n",
       "      <th></th>\n",
       "      <th>mother_height</th>\n",
       "      <th>daughter_height</th>\n",
       "    </tr>\n",
       "  </thead>\n",
       "  <tbody>\n",
       "    <tr>\n",
       "      <th>0</th>\n",
       "      <td>58</td>\n",
       "      <td>60</td>\n",
       "    </tr>\n",
       "    <tr>\n",
       "      <th>1</th>\n",
       "      <td>62</td>\n",
       "      <td>60</td>\n",
       "    </tr>\n",
       "    <tr>\n",
       "      <th>2</th>\n",
       "      <td>60</td>\n",
       "      <td>58</td>\n",
       "    </tr>\n",
       "    <tr>\n",
       "      <th>3</th>\n",
       "      <td>64</td>\n",
       "      <td>60</td>\n",
       "    </tr>\n",
       "    <tr>\n",
       "      <th>4</th>\n",
       "      <td>67</td>\n",
       "      <td>70</td>\n",
       "    </tr>\n",
       "    <tr>\n",
       "      <th>5</th>\n",
       "      <td>70</td>\n",
       "      <td>72</td>\n",
       "    </tr>\n",
       "  </tbody>\n",
       "</table>\n",
       "</div>"
      ],
      "text/plain": [
       "   mother_height  daughter_height\n",
       "0             58               60\n",
       "1             62               60\n",
       "2             60               58\n",
       "3             64               60\n",
       "4             67               70\n",
       "5             70               72"
      ]
     },
     "execution_count": 878,
     "metadata": {},
     "output_type": "execute_result"
    }
   ],
   "source": [
    "df = pd.DataFrame(data)\n",
    "df"
   ]
  },
  {
   "cell_type": "code",
   "execution_count": 879,
   "id": "801d1900",
   "metadata": {},
   "outputs": [],
   "source": [
    "df.to_csv('w5q1.csv',index=False)"
   ]
  },
  {
   "cell_type": "code",
   "execution_count": 880,
   "id": "e41838ff",
   "metadata": {},
   "outputs": [],
   "source": [
    "x = df['mother_height'].values\n",
    "y = df['daughter_height'].values\n",
    "x = x.reshape(-1,1)"
   ]
  },
  {
   "cell_type": "code",
   "execution_count": 881,
   "id": "06f63d2a",
   "metadata": {},
   "outputs": [],
   "source": [
    "learning_rate = 0.0001\n",
    "iterations = 24\n",
    "b0 = 0.1\n",
    "b1 = 0.001\n",
    "m = len(y)"
   ]
  },
  {
   "cell_type": "markdown",
   "id": "8a489711",
   "metadata": {},
   "source": [
    "#### Using gradient descent"
   ]
  },
  {
   "cell_type": "code",
   "execution_count": 882,
   "id": "0ec065fb",
   "metadata": {},
   "outputs": [],
   "source": [
    "errors = []\n",
    "for i in range(iterations) :\n",
    "    y_pred1 = b0 + b1 * x.flatten()\n",
    "    error = y_pred1-y\n",
    "    mse = np.mean(error**2)\n",
    "    errors.append(mse)\n",
    "    b0 -= learning_rate * (1/m) * np.sum(error)\n",
    "    b1 -= learning_rate * (1/m) * np.sum(error * x.flatten())"
   ]
  },
  {
   "cell_type": "code",
   "execution_count": 883,
   "id": "5b94a13b",
   "metadata": {},
   "outputs": [
    {
     "data": {
      "text/plain": [
       "[4020.610082166666,\n",
       " 1427.8921564561936,\n",
       " 509.95250603486323,\n",
       " 184.96026753944486,\n",
       " 69.89828578140744,\n",
       " 29.161129138433296,\n",
       " 14.73832905481597,\n",
       " 9.632003783766386,\n",
       " 7.8241328274718684,\n",
       " 7.184064187548228,\n",
       " 6.957450493482605,\n",
       " 6.877218588404912,\n",
       " 6.848812470784998,\n",
       " 6.8387550307172305,\n",
       " 6.835193854081976,\n",
       " 6.833932649118734,\n",
       " 6.833485738364501,\n",
       " 6.833327124665135,\n",
       " 6.833270581189354,\n",
       " 6.8332501751990025,\n",
       " 6.833242563516559,\n",
       " 6.833239481599296,\n",
       " 6.833238003424541,\n",
       " 6.833237093047568]"
      ]
     },
     "execution_count": 883,
     "metadata": {},
     "output_type": "execute_result"
    }
   ],
   "source": [
    "errors"
   ]
  },
  {
   "cell_type": "code",
   "execution_count": 884,
   "id": "130c894e",
   "metadata": {},
   "outputs": [
    {
     "name": "stdout",
     "output_type": "stream",
     "text": [
      "Coefficients from Gradient Descent: b0 = 0.11548025369108099, b1 = 0.9964147306883873\n",
      "MSE: 6.833237093047568, RMSE: 2.614046115325353\n"
     ]
    }
   ],
   "source": [
    "print(f'Coefficients from Gradient Descent: b0 = {b0}, b1 = {b1}')\n",
    "rmse = np.sqrt(mse)\n",
    "print(f'MSE: {mse}, RMSE: {rmse}')"
   ]
  },
  {
   "cell_type": "code",
   "execution_count": 885,
   "id": "c6d60142",
   "metadata": {},
   "outputs": [
    {
     "name": "stdout",
     "output_type": "stream",
     "text": [
      "Predicted Daughter Height for Mother Height 63: 62.88960828705948\n"
     ]
    }
   ],
   "source": [
    "new_mother_height = 63\n",
    "predicted_daughter_height = b0 + b1 * new_mother_height\n",
    "print(f'Predicted Daughter Height for Mother Height {new_mother_height}: {predicted_daughter_height}')"
   ]
  },
  {
   "cell_type": "markdown",
   "id": "c64dfc2f",
   "metadata": {},
   "source": [
    "#### Using sklearn"
   ]
  },
  {
   "cell_type": "code",
   "execution_count": 889,
   "id": "7417d3e7",
   "metadata": {},
   "outputs": [
    {
     "name": "stdout",
     "output_type": "stream",
     "text": [
      "Coefficients from sklearn: b0 = -13.249581239530976, b1 = 1.2060301507537687\n",
      "MSE: 62.333333333333336, RMSE: 7.895146188218008\n"
     ]
    }
   ],
   "source": [
    "model = LinearRegression()\n",
    "model.fit(x, y)\n",
    "y_pred2 = model.predict(x)\n",
    "print(f'Coefficients from sklearn: b0 = {model.intercept_}, b1 = {model.coef_[0]}')\n",
    "mse = np.mean(y-y_pred)\n",
    "rmse = np.sqrt(mse)\n",
    "print(f'MSE: {mse}, RMSE: {rmse}')"
   ]
  },
  {
   "cell_type": "code",
   "execution_count": 890,
   "id": "94b14545",
   "metadata": {},
   "outputs": [
    {
     "data": {
      "text/plain": [
       "<matplotlib.legend.Legend at 0x742852861d00>"
      ]
     },
     "execution_count": 890,
     "metadata": {},
     "output_type": "execute_result"
    },
    {
     "data": {
      "image/png": "[encoded data removed]",
      "text/plain": [
       "<Figure size 640x480 with 1 Axes>"
      ]
     },
     "metadata": {},
     "output_type": "display_data"
    }
   ],
   "source": [
    "plt.scatter(x, y, color='blue', label='Data Points')\n",
    "plt.plot(x, y_pred1, color='red', label='Line of Best Fit')\n",
    "plt.title('Daughter Height vs Mother Height')\n",
    "plt.xlabel('Mother Height')\n",
    "plt.ylabel('Daughter Height')\n",
    "plt.legend()"
   ]
  },
  {
   "cell_type": "code",
   "execution_count": 891,
   "id": "5630941a",
   "metadata": {},
   "outputs": [
    {
     "data": {
      "image/png": "[encoded data removed]",
      "text/plain": [
       "<Figure size 640x480 with 1 Axes>"
      ]
     },
     "metadata": {},
     "output_type": "display_data"
    }
   ],
   "source": [
    "plt.plot(range(1, iterations + 1), errors)\n",
    "plt.title('Error vs Iteration')\n",
    "plt.xlabel('Iteration')\n",
    "plt.ylabel('Mean Squared Error')\n",
    "plt.grid()"
   ]
  },
  {
   "cell_type": "markdown",
   "id": "b6e4ea2e",
   "metadata": {},
   "source": [
    "## Question 2"
   ]
  },
  {
   "cell_type": "code",
   "execution_count": 892,
   "id": "2b9c3083",
   "metadata": {},
   "outputs": [],
   "source": [
    "data = {'Hours of study':[1,2,3,4,5,6,7,8],\n",
    "        'Pass':[0,0,0,0,1,1,1,1]}"
   ]
  },
  {
   "cell_type": "code",
   "execution_count": 893,
   "id": "dcdce421",
   "metadata": {},
   "outputs": [
    {
     "data": {
      "text/html": [
       "<div>\n",
       "<style scoped>\n",
       "    .dataframe tbody tr th:only-of-type {\n",
       "        vertical-align: middle;\n",
       "    }\n",
       "\n",
       "    .dataframe tbody tr th {\n",
       "        vertical-align: top;\n",
       "    }\n",
       "\n",
       "    .dataframe thead th {\n",
       "        text-align: right;\n",
       "    }\n",
       "</style>\n",
       "<table border=\"1\" class=\"dataframe\">\n",
       "  <thead>\n",
       "    <tr style=\"text-align: right;\">\n",
       "      <th></th>\n",
       "      <th>Hours of study</th>\n",
       "      <th>Pass</th>\n",
       "    </tr>\n",
       "  </thead>\n",
       "  <tbody>\n",
       "    <tr>\n",
       "      <th>0</th>\n",
       "      <td>1</td>\n",
       "      <td>0</td>\n",
       "    </tr>\n",
       "    <tr>\n",
       "      <th>1</th>\n",
       "      <td>2</td>\n",
       "      <td>0</td>\n",
       "    </tr>\n",
       "    <tr>\n",
       "      <th>2</th>\n",
       "      <td>3</td>\n",
       "      <td>0</td>\n",
       "    </tr>\n",
       "    <tr>\n",
       "      <th>3</th>\n",
       "      <td>4</td>\n",
       "      <td>0</td>\n",
       "    </tr>\n",
       "    <tr>\n",
       "      <th>4</th>\n",
       "      <td>5</td>\n",
       "      <td>1</td>\n",
       "    </tr>\n",
       "    <tr>\n",
       "      <th>5</th>\n",
       "      <td>6</td>\n",
       "      <td>1</td>\n",
       "    </tr>\n",
       "    <tr>\n",
       "      <th>6</th>\n",
       "      <td>7</td>\n",
       "      <td>1</td>\n",
       "    </tr>\n",
       "    <tr>\n",
       "      <th>7</th>\n",
       "      <td>8</td>\n",
       "      <td>1</td>\n",
       "    </tr>\n",
       "  </tbody>\n",
       "</table>\n",
       "</div>"
      ],
      "text/plain": [
       "   Hours of study  Pass\n",
       "0               1     0\n",
       "1               2     0\n",
       "2               3     0\n",
       "3               4     0\n",
       "4               5     1\n",
       "5               6     1\n",
       "6               7     1\n",
       "7               8     1"
      ]
     },
     "execution_count": 893,
     "metadata": {},
     "output_type": "execute_result"
    }
   ],
   "source": [
    "df = pd.DataFrame(data)\n",
    "df"
   ]
  },
  {
   "cell_type": "code",
   "execution_count": 894,
   "id": "7552c0ab",
   "metadata": {},
   "outputs": [],
   "source": [
    "df.to_csv('w5q2.csv',index=False)"
   ]
  },
  {
   "cell_type": "code",
   "execution_count": 895,
   "id": "0ff1797e",
   "metadata": {},
   "outputs": [],
   "source": [
    "x = df['Hours of study'].values\n",
    "y = df['Pass'].values\n",
    "x = np.c_[np.ones(x.shape[0]), x]"
   ]
  },
  {
   "cell_type": "code",
   "execution_count": 896,
   "id": "ae4e8d31",
   "metadata": {},
   "outputs": [],
   "source": [
    "theta = np.random.randn(x.shape[1])\n",
    "errors = []"
   ]
  },
  {
   "cell_type": "code",
   "execution_count": 897,
   "id": "bb1ee7c6",
   "metadata": {},
   "outputs": [],
   "source": [
    "def sigmoid(z):\n",
    "    return 1 / (1 + np.exp(-z))"
   ]
  },
  {
   "cell_type": "code",
   "execution_count": 898,
   "id": "2fb0a988",
   "metadata": {},
   "outputs": [],
   "source": [
    "learning_rate = 0.1\n",
    "iterations = 24\n",
    "for i in range(iterations):\n",
    "    z = np.dot(x,theta)\n",
    "    h = sigmoid(z) \n",
    "    error = -y * np.log(h) - (1-y) * np.log(1-h)\n",
    "    cost = np.mean(error)\n",
    "    errors.append(cost)\n",
    "    gradient = np.dot(x.T, (h - y)) / m\n",
    "    theta -= learning_rate * gradient"
   ]
  },
  {
   "cell_type": "code",
   "execution_count": 899,
   "id": "8413d2e1",
   "metadata": {},
   "outputs": [
    {
     "data": {
      "text/plain": [
       "[3.838276515602312,\n",
       " 2.4579738739270702,\n",
       " 1.2232647512321986,\n",
       " 0.5900386887068453,\n",
       " 0.5364459113076769,\n",
       " 0.5308022984833426,\n",
       " 0.5273957044972898,\n",
       " 0.5242542538274139,\n",
       " 0.5211783480319836,\n",
       " 0.5181431422247085,\n",
       " 0.5151449543609387,\n",
       " 0.5121828565874196,\n",
       " 0.5092562932678882,\n",
       " 0.5063647633653077,\n",
       " 0.5035077777034693,\n",
       " 0.5006848532994637,\n",
       " 0.4978955126788998,\n",
       " 0.4951392838361308,\n",
       " 0.4924157002642449,\n",
       " 0.48972430098427033,\n",
       " 0.4870646305674393,\n",
       " 0.48443623915117745,\n",
       " 0.4818386824496126,\n",
       " 0.4792715217591046]"
      ]
     },
     "execution_count": 899,
     "metadata": {},
     "output_type": "execute_result"
    }
   ],
   "source": [
    "errors"
   ]
  },
  {
   "cell_type": "code",
   "execution_count": 900,
   "id": "c2f0d4b9",
   "metadata": {},
   "outputs": [
    {
     "name": "stdout",
     "output_type": "stream",
     "text": [
      "Coefficients from Gradient Descent: [-0.84202121  0.32632082]\n"
     ]
    }
   ],
   "source": [
    "print(f'Coefficients from Gradient Descent: {theta}')"
   ]
  },
  {
   "cell_type": "code",
   "execution_count": 901,
   "id": "9b7b7d4e",
   "metadata": {},
   "outputs": [
    {
     "name": "stdout",
     "output_type": "stream",
     "text": [
      "Accuracy from Gradient Descent: 62.5\n"
     ]
    }
   ],
   "source": [
    "predictions = sigmoid(np.dot(x, theta))\n",
    "y_pred1 = (predictions >= 0.5).astype(int)\n",
    "accuracy1 = np.mean(y_pred1 == y) * 100\n",
    "print(\"Accuracy from Gradient Descent:\", accuracy)"
   ]
  },
  {
   "cell_type": "code",
   "execution_count": 905,
   "id": "c289b4ec",
   "metadata": {},
   "outputs": [
    {
     "name": "stdout",
     "output_type": "stream",
     "text": [
      "Probability of passing for 3.5 hours: 57.44673733725505 %\n",
      "Probability of passing for 7.5 hours: 83.27696653885307 %\n"
     ]
    }
   ],
   "source": [
    "study_hours = np.array([[1, 3.5], [1, 7.5]])  # Including bias term\n",
    "probabilities = sigmoid(np.dot(study_hours, theta))\n",
    "print(f\"Probability of passing for 3.5 hours: {probabilities[0]*100} %\")\n",
    "print(f\"Probability of passing for 7.5 hours: {probabilities[1]*100} %\")"
   ]
  },
  {
   "cell_type": "code",
   "execution_count": 906,
   "id": "8372c7b0",
   "metadata": {},
   "outputs": [
    {
     "name": "stdout",
     "output_type": "stream",
     "text": [
      "Coefficients from sklearn: [1.16979937]\n"
     ]
    }
   ],
   "source": [
    "model = LogisticRegression()\n",
    "clf = model.fit(df[['Hours of study']], df['Pass'])\n",
    "print(f'Coefficients from sklearn: {model.coef_[0]}')"
   ]
  },
  {
   "cell_type": "code",
   "execution_count": 907,
   "id": "909e5837",
   "metadata": {},
   "outputs": [
    {
     "data": {
      "image/png": "[encoded data removed]",
      "text/plain": [
       "<Figure size 640x480 with 1 Axes>"
      ]
     },
     "metadata": {},
     "output_type": "display_data"
    }
   ],
   "source": [
    "plt.plot(range(1, iterations + 1), errors)\n",
    "plt.title('Error vs Iteration')\n",
    "plt.xlabel('Iteration')\n",
    "plt.ylabel('Mean Squared Error')\n",
    "plt.grid()"
   ]
  },
  {
   "cell_type": "markdown",
   "id": "a36a2387",
   "metadata": {},
   "source": [
    "## Question 3"
   ]
  },
  {
   "cell_type": "code",
   "execution_count": 913,
   "id": "5382b67f",
   "metadata": {},
   "outputs": [],
   "source": [
    "data = {\n",
    "    'x1': [4, 2, 1, 3, 1, 6],\n",
    "    'x2': [1, 8, 0, 2, 4, 7],\n",
    "    'y': [2, -14, 1, -1, -7, -8]\n",
    "}\n",
    "df = pd.DataFrame(data)"
   ]
  },
  {
   "cell_type": "code",
   "execution_count": 915,
   "id": "10d600a0",
   "metadata": {},
   "outputs": [],
   "source": [
    "def compute_logistic_cost(y, y_pred):\n",
    "    y_pred = np.clip(y_pred, 1e-10, 1 - 1e-10)\n",
    "    return -np.mean(y * np.log(y_pred) + (1 - y) * np.log(1 - y_pred))"
   ]
  },
  {
   "cell_type": "code",
   "execution_count": 917,
   "id": "08a1d1dc",
   "metadata": {},
   "outputs": [
    {
     "name": "stdout",
     "output_type": "stream",
     "text": [
      "Final Weight=[ 0.26887698 -0.73693986] Bias=0.1272134582881574\n",
      "Final Error:0.2658140606672452\n"
     ]
    },
    {
     "data": {
      "image/png": "[encoded data removed]",
      "text/plain": [
       "<Figure size 1000x600 with 1 Axes>"
      ]
     },
     "metadata": {},
     "output_type": "display_data"
    }
   ],
   "source": [
    "X = df[['x1', 'x2']].values\n",
    "y = (df['y'] > 0).astype(int)\n",
    "\n",
    "learningrate=0.1\n",
    "iterations=24\n",
    "\n",
    "weight,bias=np.zeros(X.shape[1]),0\n",
    "n=float(len(X))\n",
    "costs=[]\n",
    "weights=[]\n",
    "\n",
    "for i in range(iterations):\n",
    "    y_pred = sigmoid(bias + np.dot(X,weight))\n",
    "    cost=compute_logistic_cost(y,y_pred)\n",
    "    costs.append(cost)\n",
    "    weights.append(weight)\n",
    "    \n",
    "    weight_derivative = (1 / n) * np.dot(X.T, (y_pred - y))\n",
    "    bias_derivative = (1 / n) * np.sum(y_pred - y)\n",
    "    weight=weight-(learningrate*weight_derivative)\n",
    "    bias=bias-(learningrate*bias_derivative)\n",
    "    #print(f\"{i+1}th Iteration: Weight={weight} Bias={bias}\")\n",
    "print(f\"Final Weight={weight} Bias={bias}\")\n",
    "    \n",
    "\n",
    "iterations_range = range(1, len(costs) + 1)\n",
    "print(f\"Final Error:{costs[-1]}\")\n",
    "plt.figure(figsize=(10, 6))\n",
    "plt.plot(iterations_range, costs)\n",
    "plt.xlabel('Iteration')\n",
    "plt.ylabel('Cost')\n",
    "plt.title('Cost vs. Iteration')\n",
    "plt.grid(True)\n",
    "plt.show()"
   ]
  },
  {
   "cell_type": "code",
   "execution_count": null,
   "id": "b2000762",
   "metadata": {},
   "outputs": [],
   "source": []
  }
 ],
 "metadata": {
  "kernelspec": {
   "display_name": "Python 3 (ipykernel)",
   "language": "python",
   "name": "python3"
  },
  "language_info": {
   "codemirror_mode": {
    "name": "ipython",
    "version": 3
   },
   "file_extension": ".py",
   "mimetype": "text/x-python",
   "name": "python",
   "nbconvert_exporter": "python",
   "pygments_lexer": "ipython3",
   "version": "3.12.3"
  }
 },
 "nbformat": 4,
 "nbformat_minor": 5
}
